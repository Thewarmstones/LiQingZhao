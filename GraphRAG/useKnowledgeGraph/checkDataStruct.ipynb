{
 "cells": [
  {
   "metadata": {},
   "cell_type": "markdown",
   "source": "# 知识图谱数据调用探索",
   "id": "5a41b60aec5e1f11"
  },
  {
   "metadata": {},
   "cell_type": "markdown",
   "source": [
    "- 参考:\n",
    "    - https://kq4b3vgg5b.feishu.cn/wiki/MCs6wDHyMiAJp5kHVv7cKsnqnLf?table=tbl8Hhg2lpLG6EM0&view=vewDvZhc5C\n",
    "    - https://blog.csdn.net/2401_85378759/article/details/144713235\n",
    "    - https://blog.csdn.net/Andy_shenzl/article/details/145590829"
   ],
   "id": "1d0cbdecdfb429b3"
  },
  {
   "metadata": {
    "ExecuteTime": {
     "end_time": "2025-03-30T04:22:38.250494Z",
     "start_time": "2025-03-30T04:22:38.247090Z"
    }
   },
   "cell_type": "code",
   "source": [
    "import os\n",
    "import pandas as pd"
   ],
   "id": "7a7d94beca963bdd",
   "outputs": [],
   "execution_count": 30
  },
  {
   "metadata": {
    "ExecuteTime": {
     "end_time": "2025-03-30T04:22:38.291761Z",
     "start_time": "2025-03-30T04:22:38.288426Z"
    }
   },
   "cell_type": "code",
   "source": [
    "import tiktoken\n",
    "\n",
    "from graphrag.query.context_builder.entity_extraction import EntityVectorStoreKey\n",
    "from graphrag.query.indexer_adapters import (\n",
    "    read_indexer_covariates,\n",
    "    read_indexer_entities,\n",
    "    read_indexer_relationships,\n",
    "    read_indexer_reports,\n",
    "    read_indexer_text_units,\n",
    ")\n",
    "from graphrag.query.input.loaders.dfs import (\n",
    "    read_entities,\n",
    ")\n",
    "\n",
    "from graphrag.query.question_gen.local_gen import LocalQuestionGen\n",
    "from graphrag.query.structured_search.local_search.mixed_context import (\n",
    "    LocalSearchMixedContext,\n",
    ")\n",
    "from graphrag.query.structured_search.local_search.search import LocalSearch\n",
    "from graphrag.vector_stores.lancedb import LanceDBVectorStore"
   ],
   "id": "3836ff30d9022c89",
   "outputs": [],
   "execution_count": 31
  },
  {
   "metadata": {
    "ExecuteTime": {
     "end_time": "2025-03-30T04:22:38.305086Z",
     "start_time": "2025-03-30T04:22:38.301774Z"
    }
   },
   "cell_type": "code",
   "source": [
    "INPUT_DIR = \"C:/Users/82082/PycharmProjects/LiQingZhao/GraphRAG/graphRag/output\"\n",
    "LANCEDB_URI = f\"{INPUT_DIR}/lancedb\"\n",
    "\n",
    "COMMUNITY_REPORT_TABLE = \"community_reports\"\n",
    "COMMUNITY_TABLE = \"communities\"\n",
    "ENTITY_TABLE = \"entities\"\n",
    "DOCUMENT_TABLE = \"documents\"\n",
    "RELATIONSHIP_TABLE = \"relationships\"\n",
    "TEXT_UNIT_TABLE = \"text_units\"\n",
    "COMMUNITY_LEVEL = 2"
   ],
   "id": "df0ddb06ead5d79c",
   "outputs": [],
   "execution_count": 32
  },
  {
   "metadata": {},
   "cell_type": "markdown",
   "source": "## 实体",
   "id": "80448c60ca8a0d5b"
  },
  {
   "metadata": {
    "ExecuteTime": {
     "end_time": "2025-03-30T04:22:38.335169Z",
     "start_time": "2025-03-30T04:22:38.322692Z"
    }
   },
   "cell_type": "code",
   "source": [
    "entity_df = pd.read_parquet(f\"{INPUT_DIR}/{ENTITY_TABLE}.parquet\")\n",
    "print(f\"Entity count: {len(entity_df)}\")\n",
    "entity_df.head(3)"
   ],
   "id": "605ea679c4b3e5ac",
   "outputs": [
    {
     "name": "stdout",
     "output_type": "stream",
     "text": [
      "Entity count: 1021\n"
     ]
    },
    {
     "data": {
      "text/plain": [
       "                                     id  human_readable_id  title    type  \\\n",
       "0  7d8dfeeb-d5f6-4f25-ae86-f69c7994249e                  0     绍兴     GEO   \n",
       "1  73125e53-678d-4ca9-b526-7679bf230aec                  1     高宗  PERSON   \n",
       "2  615e99dc-26e7-4a59-b424-b628ea596305                  2  1129年    DATE   \n",
       "\n",
       "                                         description  \\\n",
       "0  绍兴是中国浙江省的一个历史名城，宋代时期就已经非常重要。李清照，作为宋代著名的女词人，她的生...   \n",
       "1  宋高宗赵构，南宋初期的皇帝，同时也是宋真宗的第九子。在金军入侵北宋后期和南宋初期，国家动荡不...   \n",
       "2  1129年，即建炎三年，李清照46岁。这一年对她来说意义重大，不仅因为她在这一年创作了晚期的...   \n",
       "\n",
       "                                       text_unit_ids  frequency  degree    x  \\\n",
       "0  [ed0d7a7cec224017e5cfe7df292b6d6a031967471fba1...          4       7  0.0   \n",
       "1  [ed0d7a7cec224017e5cfe7df292b6d6a031967471fba1...          9       9  0.0   \n",
       "2  [ed0d7a7cec224017e5cfe7df292b6d6a031967471fba1...          5       8  0.0   \n",
       "\n",
       "     y  \n",
       "0  0.0  \n",
       "1  0.0  \n",
       "2  0.0  "
      ],
      "text/html": [
       "<div>\n",
       "<style scoped>\n",
       "    .dataframe tbody tr th:only-of-type {\n",
       "        vertical-align: middle;\n",
       "    }\n",
       "\n",
       "    .dataframe tbody tr th {\n",
       "        vertical-align: top;\n",
       "    }\n",
       "\n",
       "    .dataframe thead th {\n",
       "        text-align: right;\n",
       "    }\n",
       "</style>\n",
       "<table border=\"1\" class=\"dataframe\">\n",
       "  <thead>\n",
       "    <tr style=\"text-align: right;\">\n",
       "      <th></th>\n",
       "      <th>id</th>\n",
       "      <th>human_readable_id</th>\n",
       "      <th>title</th>\n",
       "      <th>type</th>\n",
       "      <th>description</th>\n",
       "      <th>text_unit_ids</th>\n",
       "      <th>frequency</th>\n",
       "      <th>degree</th>\n",
       "      <th>x</th>\n",
       "      <th>y</th>\n",
       "    </tr>\n",
       "  </thead>\n",
       "  <tbody>\n",
       "    <tr>\n",
       "      <th>0</th>\n",
       "      <td>7d8dfeeb-d5f6-4f25-ae86-f69c7994249e</td>\n",
       "      <td>0</td>\n",
       "      <td>绍兴</td>\n",
       "      <td>GEO</td>\n",
       "      <td>绍兴是中国浙江省的一个历史名城，宋代时期就已经非常重要。李清照，作为宋代著名的女词人，她的生...</td>\n",
       "      <td>[ed0d7a7cec224017e5cfe7df292b6d6a031967471fba1...</td>\n",
       "      <td>4</td>\n",
       "      <td>7</td>\n",
       "      <td>0.0</td>\n",
       "      <td>0.0</td>\n",
       "    </tr>\n",
       "    <tr>\n",
       "      <th>1</th>\n",
       "      <td>73125e53-678d-4ca9-b526-7679bf230aec</td>\n",
       "      <td>1</td>\n",
       "      <td>高宗</td>\n",
       "      <td>PERSON</td>\n",
       "      <td>宋高宗赵构，南宋初期的皇帝，同时也是宋真宗的第九子。在金军入侵北宋后期和南宋初期，国家动荡不...</td>\n",
       "      <td>[ed0d7a7cec224017e5cfe7df292b6d6a031967471fba1...</td>\n",
       "      <td>9</td>\n",
       "      <td>9</td>\n",
       "      <td>0.0</td>\n",
       "      <td>0.0</td>\n",
       "    </tr>\n",
       "    <tr>\n",
       "      <th>2</th>\n",
       "      <td>615e99dc-26e7-4a59-b424-b628ea596305</td>\n",
       "      <td>2</td>\n",
       "      <td>1129年</td>\n",
       "      <td>DATE</td>\n",
       "      <td>1129年，即建炎三年，李清照46岁。这一年对她来说意义重大，不仅因为她在这一年创作了晚期的...</td>\n",
       "      <td>[ed0d7a7cec224017e5cfe7df292b6d6a031967471fba1...</td>\n",
       "      <td>5</td>\n",
       "      <td>8</td>\n",
       "      <td>0.0</td>\n",
       "      <td>0.0</td>\n",
       "    </tr>\n",
       "  </tbody>\n",
       "</table>\n",
       "</div>"
      ]
     },
     "execution_count": 33,
     "metadata": {},
     "output_type": "execute_result"
    }
   ],
   "execution_count": 33
  },
  {
   "metadata": {
    "ExecuteTime": {
     "end_time": "2025-03-30T04:22:38.389658Z",
     "start_time": "2025-03-30T04:22:38.376606Z"
    }
   },
   "cell_type": "code",
   "source": [
    "entity_embedding_df = pd.read_parquet(f\"{INPUT_DIR}/{COMMUNITY_TABLE}.parquet\")\n",
    "print(f\"Entity count: {len(entity_embedding_df)}\")\n",
    "entity_embedding_df.head(3)"
   ],
   "id": "99f1488a0e7b2369",
   "outputs": [
    {
     "name": "stdout",
     "output_type": "stream",
     "text": [
      "Entity count: 128\n"
     ]
    },
    {
     "data": {
      "text/plain": [
       "                                     id  human_readable_id  community  level  \\\n",
       "0  9eb41439-c5d3-4cde-9627-2395f12776d9                  0          0      0   \n",
       "1  62ae8873-9aa1-4668-b8b4-546c00aa1b90                  1          1      0   \n",
       "2  b6458935-a64e-4182-b08e-599ebe900bea                  2          2      0   \n",
       "\n",
       "   parent                              children        title  \\\n",
       "0      -1  [40, 41, 42, 43, 44, 45, 46, 47, 48]  Community 0   \n",
       "1      -1                                    []  Community 1   \n",
       "2      -1                                    []  Community 2   \n",
       "\n",
       "                                          entity_ids  \\\n",
       "0  [fa0fdf70-4d48-4f9a-a0d6-156ebd898e4d, e935cc0...   \n",
       "1  [d339717a-607a-4b01-83a6-3f9ebb6ac851, 966b71a...   \n",
       "2  [7748185d-cf93-4df8-995d-65f10bd45da3, 72612cd...   \n",
       "\n",
       "                                    relationship_ids  \\\n",
       "0  [0059ae6c-34ce-49c1-b796-76f09638686d, 040d1e7...   \n",
       "1  [190f6382-aadb-476d-9038-7b92658eee4b, c6ec38b...   \n",
       "2  [0d0adf0d-c0ff-4d46-8092-12caf5cb7ae1, 6aa1366...   \n",
       "\n",
       "                                       text_unit_ids      period  size  \n",
       "0  [02b3e0c7578ca98f4ade399261fe7f80bd1515a253117...  2025-03-28   272  \n",
       "1  [cc3ca7cf89d791f5245c6eace9b945ae9d04a805fec2b...  2025-03-28     3  \n",
       "2  [63006da44a5bc1180ed270ca98b03db18891c028fe6d3...  2025-03-28     3  "
      ],
      "text/html": [
       "<div>\n",
       "<style scoped>\n",
       "    .dataframe tbody tr th:only-of-type {\n",
       "        vertical-align: middle;\n",
       "    }\n",
       "\n",
       "    .dataframe tbody tr th {\n",
       "        vertical-align: top;\n",
       "    }\n",
       "\n",
       "    .dataframe thead th {\n",
       "        text-align: right;\n",
       "    }\n",
       "</style>\n",
       "<table border=\"1\" class=\"dataframe\">\n",
       "  <thead>\n",
       "    <tr style=\"text-align: right;\">\n",
       "      <th></th>\n",
       "      <th>id</th>\n",
       "      <th>human_readable_id</th>\n",
       "      <th>community</th>\n",
       "      <th>level</th>\n",
       "      <th>parent</th>\n",
       "      <th>children</th>\n",
       "      <th>title</th>\n",
       "      <th>entity_ids</th>\n",
       "      <th>relationship_ids</th>\n",
       "      <th>text_unit_ids</th>\n",
       "      <th>period</th>\n",
       "      <th>size</th>\n",
       "    </tr>\n",
       "  </thead>\n",
       "  <tbody>\n",
       "    <tr>\n",
       "      <th>0</th>\n",
       "      <td>9eb41439-c5d3-4cde-9627-2395f12776d9</td>\n",
       "      <td>0</td>\n",
       "      <td>0</td>\n",
       "      <td>0</td>\n",
       "      <td>-1</td>\n",
       "      <td>[40, 41, 42, 43, 44, 45, 46, 47, 48]</td>\n",
       "      <td>Community 0</td>\n",
       "      <td>[fa0fdf70-4d48-4f9a-a0d6-156ebd898e4d, e935cc0...</td>\n",
       "      <td>[0059ae6c-34ce-49c1-b796-76f09638686d, 040d1e7...</td>\n",
       "      <td>[02b3e0c7578ca98f4ade399261fe7f80bd1515a253117...</td>\n",
       "      <td>2025-03-28</td>\n",
       "      <td>272</td>\n",
       "    </tr>\n",
       "    <tr>\n",
       "      <th>1</th>\n",
       "      <td>62ae8873-9aa1-4668-b8b4-546c00aa1b90</td>\n",
       "      <td>1</td>\n",
       "      <td>1</td>\n",
       "      <td>0</td>\n",
       "      <td>-1</td>\n",
       "      <td>[]</td>\n",
       "      <td>Community 1</td>\n",
       "      <td>[d339717a-607a-4b01-83a6-3f9ebb6ac851, 966b71a...</td>\n",
       "      <td>[190f6382-aadb-476d-9038-7b92658eee4b, c6ec38b...</td>\n",
       "      <td>[cc3ca7cf89d791f5245c6eace9b945ae9d04a805fec2b...</td>\n",
       "      <td>2025-03-28</td>\n",
       "      <td>3</td>\n",
       "    </tr>\n",
       "    <tr>\n",
       "      <th>2</th>\n",
       "      <td>b6458935-a64e-4182-b08e-599ebe900bea</td>\n",
       "      <td>2</td>\n",
       "      <td>2</td>\n",
       "      <td>0</td>\n",
       "      <td>-1</td>\n",
       "      <td>[]</td>\n",
       "      <td>Community 2</td>\n",
       "      <td>[7748185d-cf93-4df8-995d-65f10bd45da3, 72612cd...</td>\n",
       "      <td>[0d0adf0d-c0ff-4d46-8092-12caf5cb7ae1, 6aa1366...</td>\n",
       "      <td>[63006da44a5bc1180ed270ca98b03db18891c028fe6d3...</td>\n",
       "      <td>2025-03-28</td>\n",
       "      <td>3</td>\n",
       "    </tr>\n",
       "  </tbody>\n",
       "</table>\n",
       "</div>"
      ]
     },
     "execution_count": 34,
     "metadata": {},
     "output_type": "execute_result"
    }
   ],
   "execution_count": 34
  },
  {
   "metadata": {
    "ExecuteTime": {
     "end_time": "2025-03-30T04:22:38.495583Z",
     "start_time": "2025-03-30T04:22:38.472532Z"
    }
   },
   "cell_type": "code",
   "source": [
    "entities = read_indexer_entities(entity_df, entity_embedding_df, COMMUNITY_LEVEL)\n",
    "entities[:3]"
   ],
   "id": "133b94b18359fd49",
   "outputs": [
    {
     "data": {
      "text/plain": [
       "[Entity(id='006872d9-58ba-4f89-a9ce-40e69b382ffd', short_id='994', title='梧桐树', type='EVENT', description='在诗中常用来象征秋天和离愁别绪的树木', description_embedding=None, name_embedding=None, community_ids=['34', '110'], text_unit_ids=['7f32a0860d5cbbfd6a170edfad5cde3369f292d95925658541c013279825eaab075ce1b7f944c67e18cbb6aad503e91395a44236f8407fb8de710b034f8f8106'], rank=3, attributes=None),\n",
       " Entity(id='0133c5a3-aa3e-474c-a28a-531a261937d3', short_id='805', title='中秋', type='EVENT', description='中国传统节日，桂花在此时节开放，被李清照称为花中之冠', description_embedding=None, name_embedding=None, community_ids=['34', '109'], text_unit_ids=['f44a1440a909266504e060ecd6b8f3998076e48084e3897de1131a0c88cc443de254a854a17aaae039ede00c11ff973c73d87bf21e4e1340cca17c1e28218b0e'], rank=1, attributes=None),\n",
       " Entity(id='013f2f31-bf4e-4c3b-bcb7-e3a4ba835f10', short_id='228', title='建康城', type='GEO', description='建康城，即古代的秣陵，是李清照生活和创作的重要地点之一。1128年12月，这位宋代女诗人曾登上建康城寻找诗歌的灵感。建康城不仅在李清照的生命轨迹中占据了一席之地，还与整个南宋历史背景紧密相连，见证了那个时代的文化与社会动态。李清照在那里的探访也反映了宋代知识分子对于文化遗产的重视与传承。', description_embedding=None, name_embedding=None, community_ids=['0', '40'], text_unit_ids=['1bfa4549bcc75d8423c8c6284c26bda435c8b830e1c798c4439f94e1e726695388d368b90171467784f164954c41a392c3bc4807389c6b50ae9c1780d0ad0d99', '730bec54708d4d8d093ba7365c1574ce97041e1c3eac0968fdc72be13cf7176055d23679568eda6bd06d693b6a58b220d5cb0a1240458f77a3e461fa09ed3e1c'], rank=1, attributes=None)]"
      ]
     },
     "execution_count": 35,
     "metadata": {},
     "output_type": "execute_result"
    }
   ],
   "execution_count": 35
  },
  {
   "metadata": {},
   "cell_type": "markdown",
   "source": "## 关系",
   "id": "aa3fb1f1f529269d"
  },
  {
   "metadata": {
    "ExecuteTime": {
     "end_time": "2025-03-30T04:22:38.589806Z",
     "start_time": "2025-03-30T04:22:38.568178Z"
    }
   },
   "cell_type": "code",
   "source": [
    "relationship_df = pd.read_parquet(f\"{INPUT_DIR}/{RELATIONSHIP_TABLE}.parquet\")\n",
    "relationships = read_indexer_relationships(relationship_df)\n",
    "print(f\"Relationship count: {len(relationship_df)}\")\n",
    "relationship_df.head(3)"
   ],
   "id": "6a7d560ffb899ca2",
   "outputs": [
    {
     "name": "stdout",
     "output_type": "stream",
     "text": [
      "Relationship count: 1138\n"
     ]
    },
    {
     "data": {
      "text/plain": [
       "                                     id  human_readable_id source target  \\\n",
       "0  2a5f9d86-1755-46cc-adc8-f7d78b99284e                  0     绍兴  1129年   \n",
       "1  6a68643a-acb6-4a9b-ac6f-d4a00a3d1c19                  1     高宗    李清照   \n",
       "2  15e689c4-27aa-453d-8243-dacd41d5d158                  2  1129年  《清平乐》   \n",
       "\n",
       "                                         description  weight  combined_degree  \\\n",
       "0                               李清照在1129年追随高宗途中居住于绍兴     2.0               15   \n",
       "1  李清照，南宋著名女词人，词风婉约，被誉为“词中的女杰”。在1129年至1130年间，李清照经...     6.0              472   \n",
       "2                        李清照在1129年创作了反映个人心路历程的词《清平乐》     2.0               11   \n",
       "\n",
       "                                       text_unit_ids  \n",
       "0  [ed0d7a7cec224017e5cfe7df292b6d6a031967471fba1...  \n",
       "1  [ed0d7a7cec224017e5cfe7df292b6d6a031967471fba1...  \n",
       "2  [ed0d7a7cec224017e5cfe7df292b6d6a031967471fba1...  "
      ],
      "text/html": [
       "<div>\n",
       "<style scoped>\n",
       "    .dataframe tbody tr th:only-of-type {\n",
       "        vertical-align: middle;\n",
       "    }\n",
       "\n",
       "    .dataframe tbody tr th {\n",
       "        vertical-align: top;\n",
       "    }\n",
       "\n",
       "    .dataframe thead th {\n",
       "        text-align: right;\n",
       "    }\n",
       "</style>\n",
       "<table border=\"1\" class=\"dataframe\">\n",
       "  <thead>\n",
       "    <tr style=\"text-align: right;\">\n",
       "      <th></th>\n",
       "      <th>id</th>\n",
       "      <th>human_readable_id</th>\n",
       "      <th>source</th>\n",
       "      <th>target</th>\n",
       "      <th>description</th>\n",
       "      <th>weight</th>\n",
       "      <th>combined_degree</th>\n",
       "      <th>text_unit_ids</th>\n",
       "    </tr>\n",
       "  </thead>\n",
       "  <tbody>\n",
       "    <tr>\n",
       "      <th>0</th>\n",
       "      <td>2a5f9d86-1755-46cc-adc8-f7d78b99284e</td>\n",
       "      <td>0</td>\n",
       "      <td>绍兴</td>\n",
       "      <td>1129年</td>\n",
       "      <td>李清照在1129年追随高宗途中居住于绍兴</td>\n",
       "      <td>2.0</td>\n",
       "      <td>15</td>\n",
       "      <td>[ed0d7a7cec224017e5cfe7df292b6d6a031967471fba1...</td>\n",
       "    </tr>\n",
       "    <tr>\n",
       "      <th>1</th>\n",
       "      <td>6a68643a-acb6-4a9b-ac6f-d4a00a3d1c19</td>\n",
       "      <td>1</td>\n",
       "      <td>高宗</td>\n",
       "      <td>李清照</td>\n",
       "      <td>李清照，南宋著名女词人，词风婉约，被誉为“词中的女杰”。在1129年至1130年间，李清照经...</td>\n",
       "      <td>6.0</td>\n",
       "      <td>472</td>\n",
       "      <td>[ed0d7a7cec224017e5cfe7df292b6d6a031967471fba1...</td>\n",
       "    </tr>\n",
       "    <tr>\n",
       "      <th>2</th>\n",
       "      <td>15e689c4-27aa-453d-8243-dacd41d5d158</td>\n",
       "      <td>2</td>\n",
       "      <td>1129年</td>\n",
       "      <td>《清平乐》</td>\n",
       "      <td>李清照在1129年创作了反映个人心路历程的词《清平乐》</td>\n",
       "      <td>2.0</td>\n",
       "      <td>11</td>\n",
       "      <td>[ed0d7a7cec224017e5cfe7df292b6d6a031967471fba1...</td>\n",
       "    </tr>\n",
       "  </tbody>\n",
       "</table>\n",
       "</div>"
      ]
     },
     "execution_count": 36,
     "metadata": {},
     "output_type": "execute_result"
    }
   ],
   "execution_count": 36
  },
  {
   "metadata": {
    "ExecuteTime": {
     "end_time": "2025-03-30T04:22:38.663931Z",
     "start_time": "2025-03-30T04:22:38.659885Z"
    }
   },
   "cell_type": "code",
   "source": "relationships[:3]",
   "id": "82ffaa269d8e445c",
   "outputs": [
    {
     "data": {
      "text/plain": [
       "[Relationship(id='2a5f9d86-1755-46cc-adc8-f7d78b99284e', short_id='0', source='绍兴', target='1129年', weight=2.0, description='李清照在1129年追随高宗途中居住于绍兴', description_embedding=None, text_unit_ids=['ed0d7a7cec224017e5cfe7df292b6d6a031967471fba15766cc24f3e2a6ea1938a39a6e1ade1469d75968ff39c54f128bdb85fd50969224885963128a6a43933'], rank=15, attributes=None),\n",
       " Relationship(id='6a68643a-acb6-4a9b-ac6f-d4a00a3d1c19', short_id='1', source='高宗', target='李清照', weight=6.0, description='李清照，南宋著名女词人，词风婉约，被誉为“词中的女杰”。在1129年至1130年间，李清照经历了一段颠沛流离的生活。据史料记载，她跟随当时的南宋君主高宗，也因金兵入侵南迁，至两浙一带。在1130年2月，她仍在追随高宗在浙东地区辗转流亡。这一时期，她所见所感都深深影响着她的作品，使其词作充满了对失去的家园的深切怀念和对动荡岁月的感慨。这一段经历不仅展示了其坚韧不拔的个性，也为研究李清照的词作提供了重要的历史背景。', description_embedding=None, text_unit_ids=['ed0d7a7cec224017e5cfe7df292b6d6a031967471fba15766cc24f3e2a6ea1938a39a6e1ade1469d75968ff39c54f128bdb85fd50969224885963128a6a43933', 'ca7bfa460129b5b6c75a6ef3f29eada7ffe11870437687ff65e703ff00bf54307f66033d716c0dd728ddb9a1634ddfdfd8d2e4f66c62637e1841137af9b27158', 'a271f2f2ad1c29c9ee6ed20fb724067746719ceb297ec999ce75e81cce64be9e2ae61bb21490160444fd3e9f48cd4ab915e65baae4ed07d85c1d0baef9c8226c'], rank=472, attributes=None),\n",
       " Relationship(id='15e689c4-27aa-453d-8243-dacd41d5d158', short_id='2', source='1129年', target='《清平乐》', weight=2.0, description='李清照在1129年创作了反映个人心路历程的词《清平乐》', description_embedding=None, text_unit_ids=['ed0d7a7cec224017e5cfe7df292b6d6a031967471fba15766cc24f3e2a6ea1938a39a6e1ade1469d75968ff39c54f128bdb85fd50969224885963128a6a43933'], rank=11, attributes=None)]"
      ]
     },
     "execution_count": 37,
     "metadata": {},
     "output_type": "execute_result"
    }
   ],
   "execution_count": 37
  },
  {
   "metadata": {},
   "cell_type": "markdown",
   "source": "",
   "id": "be6890fda192a9e9"
  },
  {
   "metadata": {},
   "cell_type": "markdown",
   "source": "## 报告",
   "id": "45ed59678ee7a7eb"
  },
  {
   "metadata": {
    "ExecuteTime": {
     "end_time": "2025-03-30T04:22:38.744997Z",
     "start_time": "2025-03-30T04:22:38.728939Z"
    }
   },
   "cell_type": "code",
   "source": [
    "report_df = pd.read_parquet(f\"{INPUT_DIR}/{COMMUNITY_REPORT_TABLE}.parquet\")\n",
    "\n",
    "print(f\"Report records: {len(report_df)}\")\n",
    "report_df.head(3)"
   ],
   "id": "ada3d0b856c9924f",
   "outputs": [
    {
     "name": "stdout",
     "output_type": "stream",
     "text": [
      "Report records: 122\n"
     ]
    },
    {
     "data": {
      "text/plain": [
       "                                 id  human_readable_id  community  level  \\\n",
       "0  455bee04dbf746b68cea169ac87f5836                112        112      2   \n",
       "1  9f2fff76dba04d34abd944f0bfa743cd                113        113      2   \n",
       "2  72ee3526d41b4e3f8fbbe32485c29544                114        114      2   \n",
       "\n",
       "   parent children           title  \\\n",
       "0      69       []   李清照与赵明诚的金石学研究   \n",
       "1      69       []  归来堂与1115年的文化交流   \n",
       "2      69       []     江宁与李清照的历史联系   \n",
       "\n",
       "                                             summary  \\\n",
       "0  本报告围绕宋代著名女诗人李清照及其丈夫赵明诚的金石学研究，特别是他们合著的《金石录》以及与文...   \n",
       "1  归来堂是李清照与赵明诚学术交流与合作的关键地点，1115年象征着这对夫妇在艺术与学问上的共同...   \n",
       "2  江宁作为历史著名的古都，在文人李清照的生活与作品中占据了重要的地位。李清照在1128年2月到...   \n",
       "\n",
       "                                        full_content  rank  \\\n",
       "0  # 李清照与赵明诚的金石学研究\\n\\n本报告围绕宋代著名女诗人李清照及其丈夫赵明诚的金石学研...   7.0   \n",
       "1  # 归来堂与1115年的文化交流\\n\\n归来堂是李清照与赵明诚学术交流与合作的关键地点，11...   2.0   \n",
       "2  # 江宁与李清照的历史联系\\n\\n江宁作为历史著名的古都，在文人李清照的生活与作品中占据了重...   4.0   \n",
       "\n",
       "                         rating_explanation  \\\n",
       "0       赵明诚与李清照在金石学研究和文学方面的成就，对中国历史文化有深远影响。   \n",
       "1  虽然这对夫妇对金石学的贡献被历史所记住，但其影响范围相对较小，主要局限于学术界。   \n",
       "2             江宁与李清照之间的联系在中国历史和文化上具有一定的重要性。   \n",
       "\n",
       "                                            findings  \\\n",
       "0  [{'explanation': '《金石录》是由李清照和赵明诚共同整理，其记录了大量的金石...   \n",
       "1  [{'explanation': '1115年是李清照的个人艺术成就的标志性年份，她创作了著...   \n",
       "2  [{'explanation': '江宁既是中国历史上的重要古都，也是许多文人墨客的创作寄托...   \n",
       "\n",
       "                                   full_content_json      period  size  \n",
       "0  {\\n    \"title\": \"李清照与赵明诚的金石学研究\",\\n    \"summary...  2025-03-28     6  \n",
       "1  {\\n    \"title\": \"归来堂与1115年的文化交流\",\\n    \"summar...  2025-03-28     2  \n",
       "2  {\\n    \"title\": \"江宁与李清照的历史联系\",\\n    \"summary\":...  2025-03-28     2  "
      ],
      "text/html": [
       "<div>\n",
       "<style scoped>\n",
       "    .dataframe tbody tr th:only-of-type {\n",
       "        vertical-align: middle;\n",
       "    }\n",
       "\n",
       "    .dataframe tbody tr th {\n",
       "        vertical-align: top;\n",
       "    }\n",
       "\n",
       "    .dataframe thead th {\n",
       "        text-align: right;\n",
       "    }\n",
       "</style>\n",
       "<table border=\"1\" class=\"dataframe\">\n",
       "  <thead>\n",
       "    <tr style=\"text-align: right;\">\n",
       "      <th></th>\n",
       "      <th>id</th>\n",
       "      <th>human_readable_id</th>\n",
       "      <th>community</th>\n",
       "      <th>level</th>\n",
       "      <th>parent</th>\n",
       "      <th>children</th>\n",
       "      <th>title</th>\n",
       "      <th>summary</th>\n",
       "      <th>full_content</th>\n",
       "      <th>rank</th>\n",
       "      <th>rating_explanation</th>\n",
       "      <th>findings</th>\n",
       "      <th>full_content_json</th>\n",
       "      <th>period</th>\n",
       "      <th>size</th>\n",
       "    </tr>\n",
       "  </thead>\n",
       "  <tbody>\n",
       "    <tr>\n",
       "      <th>0</th>\n",
       "      <td>455bee04dbf746b68cea169ac87f5836</td>\n",
       "      <td>112</td>\n",
       "      <td>112</td>\n",
       "      <td>2</td>\n",
       "      <td>69</td>\n",
       "      <td>[]</td>\n",
       "      <td>李清照与赵明诚的金石学研究</td>\n",
       "      <td>本报告围绕宋代著名女诗人李清照及其丈夫赵明诚的金石学研究，特别是他们合著的《金石录》以及与文...</td>\n",
       "      <td># 李清照与赵明诚的金石学研究\\n\\n本报告围绕宋代著名女诗人李清照及其丈夫赵明诚的金石学研...</td>\n",
       "      <td>7.0</td>\n",
       "      <td>赵明诚与李清照在金石学研究和文学方面的成就，对中国历史文化有深远影响。</td>\n",
       "      <td>[{'explanation': '《金石录》是由李清照和赵明诚共同整理，其记录了大量的金石...</td>\n",
       "      <td>{\\n    \"title\": \"李清照与赵明诚的金石学研究\",\\n    \"summary...</td>\n",
       "      <td>2025-03-28</td>\n",
       "      <td>6</td>\n",
       "    </tr>\n",
       "    <tr>\n",
       "      <th>1</th>\n",
       "      <td>9f2fff76dba04d34abd944f0bfa743cd</td>\n",
       "      <td>113</td>\n",
       "      <td>113</td>\n",
       "      <td>2</td>\n",
       "      <td>69</td>\n",
       "      <td>[]</td>\n",
       "      <td>归来堂与1115年的文化交流</td>\n",
       "      <td>归来堂是李清照与赵明诚学术交流与合作的关键地点，1115年象征着这对夫妇在艺术与学问上的共同...</td>\n",
       "      <td># 归来堂与1115年的文化交流\\n\\n归来堂是李清照与赵明诚学术交流与合作的关键地点，11...</td>\n",
       "      <td>2.0</td>\n",
       "      <td>虽然这对夫妇对金石学的贡献被历史所记住，但其影响范围相对较小，主要局限于学术界。</td>\n",
       "      <td>[{'explanation': '1115年是李清照的个人艺术成就的标志性年份，她创作了著...</td>\n",
       "      <td>{\\n    \"title\": \"归来堂与1115年的文化交流\",\\n    \"summar...</td>\n",
       "      <td>2025-03-28</td>\n",
       "      <td>2</td>\n",
       "    </tr>\n",
       "    <tr>\n",
       "      <th>2</th>\n",
       "      <td>72ee3526d41b4e3f8fbbe32485c29544</td>\n",
       "      <td>114</td>\n",
       "      <td>114</td>\n",
       "      <td>2</td>\n",
       "      <td>69</td>\n",
       "      <td>[]</td>\n",
       "      <td>江宁与李清照的历史联系</td>\n",
       "      <td>江宁作为历史著名的古都，在文人李清照的生活与作品中占据了重要的地位。李清照在1128年2月到...</td>\n",
       "      <td># 江宁与李清照的历史联系\\n\\n江宁作为历史著名的古都，在文人李清照的生活与作品中占据了重...</td>\n",
       "      <td>4.0</td>\n",
       "      <td>江宁与李清照之间的联系在中国历史和文化上具有一定的重要性。</td>\n",
       "      <td>[{'explanation': '江宁既是中国历史上的重要古都，也是许多文人墨客的创作寄托...</td>\n",
       "      <td>{\\n    \"title\": \"江宁与李清照的历史联系\",\\n    \"summary\":...</td>\n",
       "      <td>2025-03-28</td>\n",
       "      <td>2</td>\n",
       "    </tr>\n",
       "  </tbody>\n",
       "</table>\n",
       "</div>"
      ]
     },
     "execution_count": 38,
     "metadata": {},
     "output_type": "execute_result"
    }
   ],
   "execution_count": 38
  },
  {
   "metadata": {
    "ExecuteTime": {
     "end_time": "2025-03-30T04:22:38.854168Z",
     "start_time": "2025-03-30T04:22:38.842166Z"
    }
   },
   "cell_type": "code",
   "source": [
    "reports = read_indexer_reports(report_df, entity_embedding_df, COMMUNITY_LEVEL)\n",
    "reports[:3]"
   ],
   "id": "6b0dae0246f58691",
   "outputs": [
    {
     "data": {
      "text/plain": [
       "[CommunityReport(id='455bee04dbf746b68cea169ac87f5836', short_id='112', title='李清照与赵明诚的金石学研究', community_id='112', summary='本报告围绕宋代著名女诗人李清照及其丈夫赵明诚的金石学研究，特别是他们合著的《金石录》以及与文人陆德夫的文学交流。此外，赵明诚在1129年前往行在的个人经历也被纳入考量。', full_content='# 李清照与赵明诚的金石学研究\\n\\n本报告围绕宋代著名女诗人李清照及其丈夫赵明诚的金石学研究，特别是他们合著的《金石录》以及与文人陆德夫的文学交流。此外，赵明诚在1129年前往行在的个人经历也被纳入考量。\\n\\n## 《金石录》的学术价值\\n\\n《金石录》是由李清照和赵明诚共同整理，其记录了大量的金石拓片及其解读，反映了二人对金石文物的深刻理解和广泛收集整理工作[数据：实体（391），关系（563）]。\\n\\n## 李清照的文学与金石学成就\\n\\n李清照不仅在诗词歌赋方面有卓越成就，同时也在文物研究与历史文化保存方面做出了贡献，这体现在她合著的《金石录》以及与陆德夫的文学交流中[数据：实体（391），关系（932）]。\\n\\n## 赵明诚与陆德夫的文学交流\\n\\n赵明诚与陆德夫之间的关系突显了宋代文学社群的交流模式。赵明诚不仅赞赏李清照的创作，还将她的词与自身的作品融合后呈现给陆德夫[数据：实体（860），关系（932）]。\\n\\n## 赵明诚在1129年的经历\\n\\n在1129年，赵明诚离开江宁，并在6月13日前往建康，这表明了他个人与行政事务的关联[数据：实体（919，311），关系（988，351，992）]。\\n\\n## 赵明诚与李清照的深刻连接\\n\\n无论是在专业的金石学合作还是日常生活的点滴中，赵明诚与李清照之间的关系深深植根于他们的作品和情感生活中[数据：实体（391，148），关系（563，168）]。', rank=7.0, full_content_embedding=None, attributes=None, size=None, period=None),\n",
       " CommunityReport(id='9f2fff76dba04d34abd944f0bfa743cd', short_id='113', title='归来堂与1115年的文化交流', community_id='113', summary='归来堂是李清照与赵明诚学术交流与合作的关键地点，1115年象征着这对夫妇在艺术与学问上的共同成就。在这一年，归来堂见证了两人的文化交流，特别是在金石学领域的贡献。', full_content='# 归来堂与1115年的文化交流\\n\\n归来堂是李清照与赵明诚学术交流与合作的关键地点，1115年象征着这对夫妇在艺术与学问上的共同成就。在这一年，归来堂见证了两人的文化交流，特别是在金石学领域的贡献。\\n\\n## 李清照在1115年的艺术创作\\n\\n1115年是李清照的个人艺术成就的标志性年份，她创作了著名词作《浣溪沙》。这一作品不仅展示了她的才华，也反映了宋代女性生活的一面，并对后世词派产生了深远的影响。[数据：实体（752）]\\n\\n## 归来堂在文化交流中的作用\\n\\n归来堂是李清照和赵明诚共同研究金石刻辞的空间，它不仅是他们的居所，也是两人交流学问和情感的地方。他们的合作提升了金石学的发展，也塑造了中华文化宝库。[数据：实体（530），关系（1111）]\\n\\n## 赵明诚与李清照的合作关系\\n\\n赵明诚和李清照在归来堂的共同生活和学术合作体现了两人在学术及生活上亲密无间的关系。他们对金石学的共同贡献和对古文物的鉴赏显示了他们在文化艺术领域的独特影响力。[数据：关系（1111）]', rank=2.0, full_content_embedding=None, attributes=None, size=None, period=None),\n",
       " CommunityReport(id='72ee3526d41b4e3f8fbbe32485c29544', short_id='114', title='江宁与李清照的历史联系', community_id='114', summary='江宁作为历史著名的古都，在文人李清照的生活与作品中占据了重要的地位。李清照在1128年2月到达江宁，并在此留下了她对当地梅花的赞美。', full_content='# 江宁与李清照的历史联系\\n\\n江宁作为历史著名的古都，在文人李清照的生活与作品中占据了重要的地位。李清照在1128年2月到达江宁，并在此留下了她对当地梅花的赞美。\\n\\n## 江宁的历史地位\\n\\n江宁既是中国历史上的重要古都，也是许多文人墨客的创作寄托地。李清照与其夫赵明诚在江宁的生活及文学创作为这座城市增添了丰富的文化遗产。[数据：实体（173）]\\n\\n## 李清照的到达与创作\\n\\n李清照在1128年2月抵达江宁的事件对于理解她的文学作品和情感表达至关重要，其在江宁的经历和创作活动表明这个时间节点和地点的文化重要性。[数据：实体（175），关系（199）]', rank=4.0, full_content_embedding=None, attributes=None, size=None, period=None)]"
      ]
     },
     "execution_count": 39,
     "metadata": {},
     "output_type": "execute_result"
    }
   ],
   "execution_count": 39
  },
  {
   "metadata": {},
   "cell_type": "markdown",
   "source": "## 文本块",
   "id": "f923d630d84c5786"
  },
  {
   "metadata": {
    "ExecuteTime": {
     "end_time": "2025-03-30T04:22:38.975123Z",
     "start_time": "2025-03-30T04:22:38.963125Z"
    }
   },
   "cell_type": "code",
   "source": [
    "text_unit_df = pd.read_parquet(f\"{INPUT_DIR}/{TEXT_UNIT_TABLE}.parquet\")\n",
    "\n",
    "print(f\"Text unit records: {len(text_unit_df)}\")\n",
    "text_unit_df.head(3)"
   ],
   "id": "16031d6d6fd07224",
   "outputs": [
    {
     "name": "stdout",
     "output_type": "stream",
     "text": [
      "Text unit records: 100\n"
     ]
    },
    {
     "data": {
      "text/plain": [
       "                                                  id  human_readable_id  \\\n",
       "0  ed0d7a7cec224017e5cfe7df292b6d6a031967471fba15...                  1   \n",
       "1  ca7bfa460129b5b6c75a6ef3f29eada7ffe11870437687...                  2   \n",
       "2  35db9c01730e44b834f55c18ffe1db83515f95c656b2d9...                  3   \n",
       "\n",
       "                                                text  n_tokens  \\\n",
       "0  绍兴（1129年，46岁，作品：1）\\n1129年，46岁\\n1129年　追随高宗于两浙，有...      1200   \n",
       "1  世的艰辛。当年那种赏梅的雅兴大减。这两句写的就是词人婚后的这段生活，表现的是一种百无聊赖、忧...      1027   \n",
       "2  7月　金人立刘豫为帝，清照作诗斥伪齐。作品：《咏史》\\n\\n绍兴（1131年3月 - 113...       127   \n",
       "\n",
       "                                        document_ids  \\\n",
       "0  [03e4742412e1be85fbc7a7737fe0cc9da4241d2ce5e76...   \n",
       "1  [03e4742412e1be85fbc7a7737fe0cc9da4241d2ce5e76...   \n",
       "2  [03e4742412e1be85fbc7a7737fe0cc9da4241d2ce5e76...   \n",
       "\n",
       "                                          entity_ids  \\\n",
       "0  [7d8dfeeb-d5f6-4f25-ae86-f69c7994249e, 73125e5...   \n",
       "1  [7d8dfeeb-d5f6-4f25-ae86-f69c7994249e, 73125e5...   \n",
       "2  [7d8dfeeb-d5f6-4f25-ae86-f69c7994249e, 73125e5...   \n",
       "\n",
       "                                    relationship_ids covariate_ids  \n",
       "0  [2a5f9d86-1755-46cc-adc8-f7d78b99284e, 6a68643...            []  \n",
       "1  [6a68643a-acb6-4a9b-ac6f-d4a00a3d1c19, feacc67...            []  \n",
       "2  [e6c0a66e-70f9-44da-bb35-ddc48882bcb8, 796f3ca...            []  "
      ],
      "text/html": [
       "<div>\n",
       "<style scoped>\n",
       "    .dataframe tbody tr th:only-of-type {\n",
       "        vertical-align: middle;\n",
       "    }\n",
       "\n",
       "    .dataframe tbody tr th {\n",
       "        vertical-align: top;\n",
       "    }\n",
       "\n",
       "    .dataframe thead th {\n",
       "        text-align: right;\n",
       "    }\n",
       "</style>\n",
       "<table border=\"1\" class=\"dataframe\">\n",
       "  <thead>\n",
       "    <tr style=\"text-align: right;\">\n",
       "      <th></th>\n",
       "      <th>id</th>\n",
       "      <th>human_readable_id</th>\n",
       "      <th>text</th>\n",
       "      <th>n_tokens</th>\n",
       "      <th>document_ids</th>\n",
       "      <th>entity_ids</th>\n",
       "      <th>relationship_ids</th>\n",
       "      <th>covariate_ids</th>\n",
       "    </tr>\n",
       "  </thead>\n",
       "  <tbody>\n",
       "    <tr>\n",
       "      <th>0</th>\n",
       "      <td>ed0d7a7cec224017e5cfe7df292b6d6a031967471fba15...</td>\n",
       "      <td>1</td>\n",
       "      <td>绍兴（1129年，46岁，作品：1）\\n1129年，46岁\\n1129年　追随高宗于两浙，有...</td>\n",
       "      <td>1200</td>\n",
       "      <td>[03e4742412e1be85fbc7a7737fe0cc9da4241d2ce5e76...</td>\n",
       "      <td>[7d8dfeeb-d5f6-4f25-ae86-f69c7994249e, 73125e5...</td>\n",
       "      <td>[2a5f9d86-1755-46cc-adc8-f7d78b99284e, 6a68643...</td>\n",
       "      <td>[]</td>\n",
       "    </tr>\n",
       "    <tr>\n",
       "      <th>1</th>\n",
       "      <td>ca7bfa460129b5b6c75a6ef3f29eada7ffe11870437687...</td>\n",
       "      <td>2</td>\n",
       "      <td>世的艰辛。当年那种赏梅的雅兴大减。这两句写的就是词人婚后的这段生活，表现的是一种百无聊赖、忧...</td>\n",
       "      <td>1027</td>\n",
       "      <td>[03e4742412e1be85fbc7a7737fe0cc9da4241d2ce5e76...</td>\n",
       "      <td>[7d8dfeeb-d5f6-4f25-ae86-f69c7994249e, 73125e5...</td>\n",
       "      <td>[6a68643a-acb6-4a9b-ac6f-d4a00a3d1c19, feacc67...</td>\n",
       "      <td>[]</td>\n",
       "    </tr>\n",
       "    <tr>\n",
       "      <th>2</th>\n",
       "      <td>35db9c01730e44b834f55c18ffe1db83515f95c656b2d9...</td>\n",
       "      <td>3</td>\n",
       "      <td>7月　金人立刘豫为帝，清照作诗斥伪齐。作品：《咏史》\\n\\n绍兴（1131年3月 - 113...</td>\n",
       "      <td>127</td>\n",
       "      <td>[03e4742412e1be85fbc7a7737fe0cc9da4241d2ce5e76...</td>\n",
       "      <td>[7d8dfeeb-d5f6-4f25-ae86-f69c7994249e, 73125e5...</td>\n",
       "      <td>[e6c0a66e-70f9-44da-bb35-ddc48882bcb8, 796f3ca...</td>\n",
       "      <td>[]</td>\n",
       "    </tr>\n",
       "  </tbody>\n",
       "</table>\n",
       "</div>"
      ]
     },
     "execution_count": 40,
     "metadata": {},
     "output_type": "execute_result"
    }
   ],
   "execution_count": 40
  },
  {
   "metadata": {
    "ExecuteTime": {
     "end_time": "2025-03-30T04:22:39.177694Z",
     "start_time": "2025-03-30T04:22:39.171693Z"
    }
   },
   "cell_type": "code",
   "source": [
    "text_units = read_indexer_text_units(text_unit_df)\n",
    "text_units[:3]"
   ],
   "id": "a750b911820571ee",
   "outputs": [
    {
     "data": {
      "text/plain": [
       "[TextUnit(id='ed0d7a7cec224017e5cfe7df292b6d6a031967471fba15766cc24f3e2a6ea1938a39a6e1ade1469d75968ff39c54f128bdb85fd50969224885963128a6a43933', short_id='0', text='绍兴（1129年，46岁，作品：1）\\n1129年，46岁\\n1129年\\u3000追随高宗于两浙，有词写奔亡之苦。作品：《清平乐》（年年雪里）\\n\\n清平乐（1129年） 宋 · 李清照\\n年年雪里，常插梅花醉，挼尽梅花无好意，赢得满衣清泪！\\n今年海角天涯，萧萧两鬓生华。\\n看取晚来风势，故应难看梅花。\\n【评注】\\n这是一首典型的赏梅词作，借不同时期的赏梅感爱写出了词人个人的心路历程：少年的欢乐，中年的幽怨，晚年的沧落，在词中都约略可见。词意含蓄蕴藉，感情悲切哀婉，以赏梅寄寓自己的今苦之感和永国之忧，感慨深沉。\\n上阕回忆往昔赏梅生活，分为两层。“年年雪里，常插梅花醉 。”这两句抓住富有特征的生活细节生动地再现了词人早年赏梅的情景和兴致，表现出少女的纯真 、欢乐和闲适。她早年写下的咏梅词《渔家傲》中有句云 ：“雪里已知春信至，寒梅点缀琼枝腻⋯⋯共赏金尊沉绿蚁，莫辞醉，此花不与群花比 。”可作为“年年雪里，常插梅花醉”的注脚。接下来“挼尽梅花无好意 ，赢得满衣清泪”两句，心绪显然不同，虽然梅枝在手，却无好心情去赏玩，只是漫不经心地揉搓着。赏梅原本为的是排遣心头的忧伤，可是本来心情就不好，到头来不仅忧伤没有消除，反倒触景生情，激起更深的伤感，落得个“满衣清泪 ”。花还是昔日的花，然而花相似，人不同，物是人非，怎不使人伤心落泪呢？李清照婚后，夫妻志同道合、伉俩相得，生活美满幸福。但是，时常发生的短暂离别使她识尽离愁别苦。在婚后六、七年的时间里，李赵两家相继罹祸，紧接着就开始了长期的“屏居乡里”的生活。生活的坎坷使她屡处忧患，饱尝人世的艰辛。当年那种赏梅的雅兴大减。这两句写的就是词人婚后的这段生活，表现的是一种百无聊赖、忧伤怨恨的情绪。\\n上阕四句回忆了作者两个生活阶段赏梅时的又一不同情景和心情。\\n下阕以“今年”两字领起，同上阕的“年年”相对 。往年是“常插梅花醉”；即使是“挼尽梅花无好意”的时候，也多半为的是离别相思。眼前却截然不同了，“今年海角天涯，萧萧两鬓生华”，这里面包含着几多辛酸和哀愁。词人南渡后，特别是丈夫去世后更是颠沛流离，沦落漂零。生活的折磨使词人很快变得憔悴', entity_ids=['7d8dfeeb-d5f6-4f25-ae86-f69c7994249e', '73125e53-678d-4ca9-b526-7679bf230aec', '615e99dc-26e7-4a59-b424-b628ea596305', 'b86c13b7-c7c8-42e3-92ae-3269f4ff4d70', '5784bc8a-b1a9-497d-9df4-9f65b356e151', '88e70000-325e-4d54-a50a-c03305adacdd', 'e935cc00-9aed-4cf3-a0d4-906d70f9cde2'], relationship_ids=['2a5f9d86-1755-46cc-adc8-f7d78b99284e', '6a68643a-acb6-4a9b-ac6f-d4a00a3d1c19', '15e689c4-27aa-453d-8243-dacd41d5d158', 'cda17aa6-cfe1-4300-839a-745f38df7c69', '38b51911-20f2-4654-800e-cd558d266fff'], covariate_ids=None, n_tokens=1200, document_ids=['03e4742412e1be85fbc7a7737fe0cc9da4241d2ce5e7607d27269d748a281170f3b1c5e9eaff7de6d903d7c6ebf4664dc996d24c64a7dd9328f9ac98bbf4ceec'], attributes=None),\n",
       " TextUnit(id='ca7bfa460129b5b6c75a6ef3f29eada7ffe11870437687ff65e703ff00bf54307f66033d716c0dd728ddb9a1634ddfdfd8d2e4f66c62637e1841137af9b27158', short_id='1', text='世的艰辛。当年那种赏梅的雅兴大减。这两句写的就是词人婚后的这段生活，表现的是一种百无聊赖、忧伤怨恨的情绪。\\n上阕四句回忆了作者两个生活阶段赏梅时的又一不同情景和心情。\\n下阕以“今年”两字领起，同上阕的“年年”相对 。往年是“常插梅花醉”；即使是“挼尽梅花无好意”的时候，也多半为的是离别相思。眼前却截然不同了，“今年海角天涯，萧萧两鬓生华”，这里面包含着几多辛酸和哀愁。词人南渡后，特别是丈夫去世后更是颠沛流离，沦落漂零。生活的折磨使词人很快变得憔悴苍老，头发稀疏，两鬓花白。如今虽然赏梅季节又到，可是哪里还有心思去插梅呢？而且看来晚上要刮大风，将难以晴夜赏梅了。而且一夜风霜，明朝梅花就要凋零败落，即使想看也看不成了 。“看取晚来风势，故应难看梅花”一句还寄托着词人对国事的忧怀。这里的“风势”既是自然的“风势”也是政治的“风势”，即“国势”，寄寓着作者为国势衰颓而担忧的心绪 。“梅花”以比美好事物，“难看梅花”，则是指国家的遭难 ，而且颇有经受不住之势。在这种情况下 ，她哪里还有赏梅的闲情逸致呢！身世之苦、国家之难揉合在一起，词的思想境界为之升华。这首词依次描写作者在少年、中年和晚年三个不同的生活阶段中赏梅的不同情致 ：少年时赏梅醉酒、中年时对梅重泪和晚年时无心赏梅 ，运用对比手法，物态人事双关，表现出词人生活的巨变，着重写作者晚漂零凄之境和国破家亡之悲，真切感人。\\n\\n\\n绍兴（1130年2月，47岁）\\n1130年，47岁\\n1130年2月\\u3000追随高宗辗转浙东，又到越州。\\n\\n绍兴（1130年4月 - 1130年7月，47岁）\\n1130年，47岁\\n1130年4月\\u3000高宗驻越州，清照亦居越州。\\n1130年7月\\u3000金人立刘豫为帝，清照作诗斥伪齐。作品：《咏史》\\n\\n绍兴（1131年3月 - 1131年8月4日，48岁）\\n1131年，48岁\\n1131年3月\\u3000复追随高宗赴越州，文物被盗五簏。\\n1131年8月4日\\u3000弟李迒转一官，权工部侍郎。', entity_ids=['7d8dfeeb-d5f6-4f25-ae86-f69c7994249e', '73125e53-678d-4ca9-b526-7679bf230aec', 'e935cc00-9aed-4cf3-a0d4-906d70f9cde2', '02ddf0e7-d06a-4a57-ad3d-7a877a66b342', 'bd8701a9-da7e-4909-a3fa-523892453db6', '578356ae-6b15-479a-a2ec-fbc6bc8bd56f', 'f2e7d6aa-551a-42eb-8e94-48e4ec322a68', 'c98b59bd-2924-47b9-9a39-734b740f7a0e', '418b20a6-4694-45db-b578-048100b63d44', 'a71a6e53-0d94-4276-a5ed-0a7fc87b826a', '236973a5-d4c4-4fa6-b8e9-042fe44ecdfb', '05e468b3-6dbb-45f2-a054-7ac1fdab1a1c', '01e9fd58-d39a-411e-a914-7b226f5d178d'], relationship_ids=['6a68643a-acb6-4a9b-ac6f-d4a00a3d1c19', 'feacc670-7d87-4500-b081-d75ce20ccbeb', '472ba9ab-17a8-4878-976d-d9185083f1ad', 'e22827ec-3b58-4bec-a854-aac087440a33', '56bd9834-e50a-40d8-b5c7-d5bdc371be71', '4e548450-3ed9-475d-92eb-ade1d35508f6', '24ecde22-67df-44a6-93a9-ad68e679e3c0', '7e1d2786-b628-4e16-b0aa-68d741a2f09b', '385e3a5d-cc32-4651-ab88-9759e63d2c33', '669af96e-6dab-4708-a132-f76d8ddefb59', 'e6c0a66e-70f9-44da-bb35-ddc48882bcb8'], covariate_ids=None, n_tokens=1027, document_ids=['03e4742412e1be85fbc7a7737fe0cc9da4241d2ce5e7607d27269d748a281170f3b1c5e9eaff7de6d903d7c6ebf4664dc996d24c64a7dd9328f9ac98bbf4ceec'], attributes=None),\n",
       " TextUnit(id='35db9c01730e44b834f55c18ffe1db83515f95c656b2d9c1adb13ba8cc4421098891abd820b3026dd248b8e5400b13273c793671cff0f9257d034bc3fb826704', short_id='2', text='7月\\u3000金人立刘豫为帝，清照作诗斥伪齐。作品：《咏史》\\n\\n绍兴（1131年3月 - 1131年8月4日，48岁）\\n1131年，48岁\\n1131年3月\\u3000复追随高宗赴越州，文物被盗五簏。\\n1131年8月4日\\u3000弟李迒转一官，权工部侍郎。', entity_ids=['7d8dfeeb-d5f6-4f25-ae86-f69c7994249e', '73125e53-678d-4ca9-b526-7679bf230aec', '02ddf0e7-d06a-4a57-ad3d-7a877a66b342', 'bd8701a9-da7e-4909-a3fa-523892453db6', '578356ae-6b15-479a-a2ec-fbc6bc8bd56f', 'f2e7d6aa-551a-42eb-8e94-48e4ec322a68', '236973a5-d4c4-4fa6-b8e9-042fe44ecdfb', '05e468b3-6dbb-45f2-a054-7ac1fdab1a1c', '01e9fd58-d39a-411e-a914-7b226f5d178d', 'c37b67f6-3e27-40fb-a5eb-54329972f316'], relationship_ids=['e6c0a66e-70f9-44da-bb35-ddc48882bcb8', '796f3cae-595e-40a6-ba2e-cedaef3f0515', '8be0ae9f-233f-4da3-a940-9bfbdc362d10', '440a575c-4f29-48a4-946e-eeb7c0269b4e', '0bfef38b-b413-4ccf-84dc-b37b128476c5', '5de8b43a-2350-4099-a020-621bfe5c3f82', '3447cad1-9e35-441d-8b7f-38494bd2d70f', 'b5cadd0a-f073-416c-8b10-2a77d2e94b50', 'f744cd5c-8e5b-4bb3-86cb-b827f8b159cf', 'c6c87717-0169-49d1-b578-2c3802a592da', '967f2291-c3b0-4588-a540-d3bd28dc40a5', 'ded13e0a-134b-4649-9edb-700bc8cf7269', 'd26fad8d-3992-4b66-bb1a-f58589ddda8b'], covariate_ids=None, n_tokens=127, document_ids=['03e4742412e1be85fbc7a7737fe0cc9da4241d2ce5e7607d27269d748a281170f3b1c5e9eaff7de6d903d7c6ebf4664dc996d24c64a7dd9328f9ac98bbf4ceec'], attributes=None)]"
      ]
     },
     "execution_count": 41,
     "metadata": {},
     "output_type": "execute_result"
    }
   ],
   "execution_count": 41
  }
 ],
 "metadata": {
  "kernelspec": {
   "display_name": "Python 3",
   "language": "python",
   "name": "python3"
  },
  "language_info": {
   "codemirror_mode": {
    "name": "ipython",
    "version": 2
   },
   "file_extension": ".py",
   "mimetype": "text/x-python",
   "name": "python",
   "nbconvert_exporter": "python",
   "pygments_lexer": "ipython2",
   "version": "2.7.6"
  }
 },
 "nbformat": 4,
 "nbformat_minor": 5
}
