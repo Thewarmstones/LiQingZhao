{
 "cells": [
  {
   "metadata": {},
   "cell_type": "markdown",
   "source": "# 知识图谱数据调用探索",
   "id": "5a41b60aec5e1f11"
  },
  {
   "metadata": {},
   "cell_type": "markdown",
   "source": [
    "- 参考:\n",
    "    - https://kq4b3vgg5b.feishu.cn/wiki/MCs6wDHyMiAJp5kHVv7cKsnqnLf?table=tbl8Hhg2lpLG6EM0&view=vewDvZhc5C\n",
    "    - https://blog.csdn.net/2401_85378759/article/details/144713235\n",
    "    - https://blog.csdn.net/Andy_shenzl/article/details/145590829"
   ],
   "id": "1d0cbdecdfb429b3"
  },
  {
   "metadata": {
    "ExecuteTime": {
     "end_time": "2025-03-31T02:26:00.157373Z",
     "start_time": "2025-03-31T02:25:59.363531Z"
    }
   },
   "cell_type": "code",
   "source": [
    "import os\n",
    "import pandas as pd"
   ],
   "id": "7a7d94beca963bdd",
   "outputs": [],
   "execution_count": 1
  },
  {
   "metadata": {
    "ExecuteTime": {
     "end_time": "2025-03-31T02:26:02.074391Z",
     "start_time": "2025-03-31T02:26:00.177451Z"
    }
   },
   "cell_type": "code",
   "source": [
    "import tiktoken\n",
    "\n",
    "from graphrag.query.context_builder.entity_extraction import EntityVectorStoreKey\n",
    "from graphrag.query.indexer_adapters import (\n",
    "    read_indexer_covariates,\n",
    "    read_indexer_entities,\n",
    "    read_indexer_relationships,\n",
    "    read_indexer_reports,\n",
    "    read_indexer_text_units,\n",
    ")\n",
    "\n",
    "from graphrag.query.question_gen.local_gen import LocalQuestionGen\n",
    "from graphrag.query.structured_search.local_search.mixed_context import (\n",
    "    LocalSearchMixedContext,\n",
    ")\n",
    "from graphrag.query.structured_search.local_search.search import LocalSearch\n",
    "from graphrag.vector_stores.lancedb import LanceDBVectorStore"
   ],
   "id": "3836ff30d9022c89",
   "outputs": [],
   "execution_count": 2
  },
  {
   "metadata": {
    "ExecuteTime": {
     "end_time": "2025-03-31T02:26:02.203509Z",
     "start_time": "2025-03-31T02:26:02.199509Z"
    }
   },
   "cell_type": "code",
   "source": [
    "INPUT_DIR = \"../graphRag/output\"\n",
    "LANCEDB_URI = f\"{INPUT_DIR}/lancedb\"\n",
    "\n",
    "COMMUNITY_REPORT_TABLE = \"community_reports\"\n",
    "COMMUNITY_TABLE = \"communities\"\n",
    "ENTITY_TABLE = \"entities\"\n",
    "DOCUMENT_TABLE = \"documents\"\n",
    "RELATIONSHIP_TABLE = \"relationships\"\n",
    "TEXT_UNIT_TABLE = \"text_units\"\n",
    "COMMUNITY_LEVEL = 2"
   ],
   "id": "df0ddb06ead5d79c",
   "outputs": [],
   "execution_count": 3
  },
  {
   "metadata": {},
   "cell_type": "markdown",
   "source": "## 实体",
   "id": "80448c60ca8a0d5b"
  },
  {
   "metadata": {
    "ExecuteTime": {
     "end_time": "2025-03-31T02:26:02.369618Z",
     "start_time": "2025-03-31T02:26:02.217925Z"
    }
   },
   "cell_type": "code",
   "source": [
    "entity_df = pd.read_parquet(f\"{INPUT_DIR}/{ENTITY_TABLE}.parquet\")\n",
    "print(f\"Entity count: {len(entity_df)}\")\n",
    "entity_df.head(3)"
   ],
   "id": "605ea679c4b3e5ac",
   "outputs": [
    {
     "name": "stdout",
     "output_type": "stream",
     "text": [
      "Entity count: 1021\n"
     ]
    },
    {
     "data": {
      "text/plain": [
       "                                     id  human_readable_id  title    type  \\\n",
       "0  7d8dfeeb-d5f6-4f25-ae86-f69c7994249e                  0     绍兴     GEO   \n",
       "1  73125e53-678d-4ca9-b526-7679bf230aec                  1     高宗  PERSON   \n",
       "2  615e99dc-26e7-4a59-b424-b628ea596305                  2  1129年    DATE   \n",
       "\n",
       "                                         description  \\\n",
       "0  绍兴是中国浙江省的一个历史名城，宋代时期就已经非常重要。李清照，作为宋代著名的女词人，她的生...   \n",
       "1  宋高宗赵构，南宋初期的皇帝，同时也是宋真宗的第九子。在金军入侵北宋后期和南宋初期，国家动荡不...   \n",
       "2  1129年，即建炎三年，李清照46岁。这一年对她来说意义重大，不仅因为她在这一年创作了晚期的...   \n",
       "\n",
       "                                       text_unit_ids  frequency  degree    x  \\\n",
       "0  [ed0d7a7cec224017e5cfe7df292b6d6a031967471fba1...          4       7  0.0   \n",
       "1  [ed0d7a7cec224017e5cfe7df292b6d6a031967471fba1...          9       9  0.0   \n",
       "2  [ed0d7a7cec224017e5cfe7df292b6d6a031967471fba1...          5       8  0.0   \n",
       "\n",
       "     y  \n",
       "0  0.0  \n",
       "1  0.0  \n",
       "2  0.0  "
      ],
      "text/html": [
       "<div>\n",
       "<style scoped>\n",
       "    .dataframe tbody tr th:only-of-type {\n",
       "        vertical-align: middle;\n",
       "    }\n",
       "\n",
       "    .dataframe tbody tr th {\n",
       "        vertical-align: top;\n",
       "    }\n",
       "\n",
       "    .dataframe thead th {\n",
       "        text-align: right;\n",
       "    }\n",
       "</style>\n",
       "<table border=\"1\" class=\"dataframe\">\n",
       "  <thead>\n",
       "    <tr style=\"text-align: right;\">\n",
       "      <th></th>\n",
       "      <th>id</th>\n",
       "      <th>human_readable_id</th>\n",
       "      <th>title</th>\n",
       "      <th>type</th>\n",
       "      <th>description</th>\n",
       "      <th>text_unit_ids</th>\n",
       "      <th>frequency</th>\n",
       "      <th>degree</th>\n",
       "      <th>x</th>\n",
       "      <th>y</th>\n",
       "    </tr>\n",
       "  </thead>\n",
       "  <tbody>\n",
       "    <tr>\n",
       "      <th>0</th>\n",
       "      <td>7d8dfeeb-d5f6-4f25-ae86-f69c7994249e</td>\n",
       "      <td>0</td>\n",
       "      <td>绍兴</td>\n",
       "      <td>GEO</td>\n",
       "      <td>绍兴是中国浙江省的一个历史名城，宋代时期就已经非常重要。李清照，作为宋代著名的女词人，她的生...</td>\n",
       "      <td>[ed0d7a7cec224017e5cfe7df292b6d6a031967471fba1...</td>\n",
       "      <td>4</td>\n",
       "      <td>7</td>\n",
       "      <td>0.0</td>\n",
       "      <td>0.0</td>\n",
       "    </tr>\n",
       "    <tr>\n",
       "      <th>1</th>\n",
       "      <td>73125e53-678d-4ca9-b526-7679bf230aec</td>\n",
       "      <td>1</td>\n",
       "      <td>高宗</td>\n",
       "      <td>PERSON</td>\n",
       "      <td>宋高宗赵构，南宋初期的皇帝，同时也是宋真宗的第九子。在金军入侵北宋后期和南宋初期，国家动荡不...</td>\n",
       "      <td>[ed0d7a7cec224017e5cfe7df292b6d6a031967471fba1...</td>\n",
       "      <td>9</td>\n",
       "      <td>9</td>\n",
       "      <td>0.0</td>\n",
       "      <td>0.0</td>\n",
       "    </tr>\n",
       "    <tr>\n",
       "      <th>2</th>\n",
       "      <td>615e99dc-26e7-4a59-b424-b628ea596305</td>\n",
       "      <td>2</td>\n",
       "      <td>1129年</td>\n",
       "      <td>DATE</td>\n",
       "      <td>1129年，即建炎三年，李清照46岁。这一年对她来说意义重大，不仅因为她在这一年创作了晚期的...</td>\n",
       "      <td>[ed0d7a7cec224017e5cfe7df292b6d6a031967471fba1...</td>\n",
       "      <td>5</td>\n",
       "      <td>8</td>\n",
       "      <td>0.0</td>\n",
       "      <td>0.0</td>\n",
       "    </tr>\n",
       "  </tbody>\n",
       "</table>\n",
       "</div>"
      ]
     },
     "execution_count": 4,
     "metadata": {},
     "output_type": "execute_result"
    }
   ],
   "execution_count": 4
  },
  {
   "metadata": {
    "ExecuteTime": {
     "end_time": "2025-03-31T02:26:02.424255Z",
     "start_time": "2025-03-31T02:26:02.409889Z"
    }
   },
   "cell_type": "code",
   "source": [
    "entity_embedding_df = pd.read_parquet(f\"{INPUT_DIR}/{COMMUNITY_TABLE}.parquet\")\n",
    "print(f\"Entity count: {len(entity_embedding_df)}\")\n",
    "entity_embedding_df.head(3)"
   ],
   "id": "99f1488a0e7b2369",
   "outputs": [
    {
     "name": "stdout",
     "output_type": "stream",
     "text": [
      "Entity count: 128\n"
     ]
    },
    {
     "data": {
      "text/plain": [
       "                                     id  human_readable_id  community  level  \\\n",
       "0  9eb41439-c5d3-4cde-9627-2395f12776d9                  0          0      0   \n",
       "1  62ae8873-9aa1-4668-b8b4-546c00aa1b90                  1          1      0   \n",
       "2  b6458935-a64e-4182-b08e-599ebe900bea                  2          2      0   \n",
       "\n",
       "   parent                              children        title  \\\n",
       "0      -1  [40, 41, 42, 43, 44, 45, 46, 47, 48]  Community 0   \n",
       "1      -1                                    []  Community 1   \n",
       "2      -1                                    []  Community 2   \n",
       "\n",
       "                                          entity_ids  \\\n",
       "0  [fa0fdf70-4d48-4f9a-a0d6-156ebd898e4d, e935cc0...   \n",
       "1  [d339717a-607a-4b01-83a6-3f9ebb6ac851, 966b71a...   \n",
       "2  [7748185d-cf93-4df8-995d-65f10bd45da3, 72612cd...   \n",
       "\n",
       "                                    relationship_ids  \\\n",
       "0  [0059ae6c-34ce-49c1-b796-76f09638686d, 040d1e7...   \n",
       "1  [190f6382-aadb-476d-9038-7b92658eee4b, c6ec38b...   \n",
       "2  [0d0adf0d-c0ff-4d46-8092-12caf5cb7ae1, 6aa1366...   \n",
       "\n",
       "                                       text_unit_ids      period  size  \n",
       "0  [02b3e0c7578ca98f4ade399261fe7f80bd1515a253117...  2025-03-28   272  \n",
       "1  [cc3ca7cf89d791f5245c6eace9b945ae9d04a805fec2b...  2025-03-28     3  \n",
       "2  [63006da44a5bc1180ed270ca98b03db18891c028fe6d3...  2025-03-28     3  "
      ],
      "text/html": [
       "<div>\n",
       "<style scoped>\n",
       "    .dataframe tbody tr th:only-of-type {\n",
       "        vertical-align: middle;\n",
       "    }\n",
       "\n",
       "    .dataframe tbody tr th {\n",
       "        vertical-align: top;\n",
       "    }\n",
       "\n",
       "    .dataframe thead th {\n",
       "        text-align: right;\n",
       "    }\n",
       "</style>\n",
       "<table border=\"1\" class=\"dataframe\">\n",
       "  <thead>\n",
       "    <tr style=\"text-align: right;\">\n",
       "      <th></th>\n",
       "      <th>id</th>\n",
       "      <th>human_readable_id</th>\n",
       "      <th>community</th>\n",
       "      <th>level</th>\n",
       "      <th>parent</th>\n",
       "      <th>children</th>\n",
       "      <th>title</th>\n",
       "      <th>entity_ids</th>\n",
       "      <th>relationship_ids</th>\n",
       "      <th>text_unit_ids</th>\n",
       "      <th>period</th>\n",
       "      <th>size</th>\n",
       "    </tr>\n",
       "  </thead>\n",
       "  <tbody>\n",
       "    <tr>\n",
       "      <th>0</th>\n",
       "      <td>9eb41439-c5d3-4cde-9627-2395f12776d9</td>\n",
       "      <td>0</td>\n",
       "      <td>0</td>\n",
       "      <td>0</td>\n",
       "      <td>-1</td>\n",
       "      <td>[40, 41, 42, 43, 44, 45, 46, 47, 48]</td>\n",
       "      <td>Community 0</td>\n",
       "      <td>[fa0fdf70-4d48-4f9a-a0d6-156ebd898e4d, e935cc0...</td>\n",
       "      <td>[0059ae6c-34ce-49c1-b796-76f09638686d, 040d1e7...</td>\n",
       "      <td>[02b3e0c7578ca98f4ade399261fe7f80bd1515a253117...</td>\n",
       "      <td>2025-03-28</td>\n",
       "      <td>272</td>\n",
       "    </tr>\n",
       "    <tr>\n",
       "      <th>1</th>\n",
       "      <td>62ae8873-9aa1-4668-b8b4-546c00aa1b90</td>\n",
       "      <td>1</td>\n",
       "      <td>1</td>\n",
       "      <td>0</td>\n",
       "      <td>-1</td>\n",
       "      <td>[]</td>\n",
       "      <td>Community 1</td>\n",
       "      <td>[d339717a-607a-4b01-83a6-3f9ebb6ac851, 966b71a...</td>\n",
       "      <td>[190f6382-aadb-476d-9038-7b92658eee4b, c6ec38b...</td>\n",
       "      <td>[cc3ca7cf89d791f5245c6eace9b945ae9d04a805fec2b...</td>\n",
       "      <td>2025-03-28</td>\n",
       "      <td>3</td>\n",
       "    </tr>\n",
       "    <tr>\n",
       "      <th>2</th>\n",
       "      <td>b6458935-a64e-4182-b08e-599ebe900bea</td>\n",
       "      <td>2</td>\n",
       "      <td>2</td>\n",
       "      <td>0</td>\n",
       "      <td>-1</td>\n",
       "      <td>[]</td>\n",
       "      <td>Community 2</td>\n",
       "      <td>[7748185d-cf93-4df8-995d-65f10bd45da3, 72612cd...</td>\n",
       "      <td>[0d0adf0d-c0ff-4d46-8092-12caf5cb7ae1, 6aa1366...</td>\n",
       "      <td>[63006da44a5bc1180ed270ca98b03db18891c028fe6d3...</td>\n",
       "      <td>2025-03-28</td>\n",
       "      <td>3</td>\n",
       "    </tr>\n",
       "  </tbody>\n",
       "</table>\n",
       "</div>"
      ]
     },
     "execution_count": 5,
     "metadata": {},
     "output_type": "execute_result"
    }
   ],
   "execution_count": 5
  },
  {
   "metadata": {
    "ExecuteTime": {
     "end_time": "2025-03-31T02:26:02.505551Z",
     "start_time": "2025-03-31T02:26:02.458580Z"
    }
   },
   "cell_type": "code",
   "source": [
    "entities = read_indexer_entities(entity_df, entity_embedding_df, COMMUNITY_LEVEL)\n",
    "entities[:3]"
   ],
   "id": "133b94b18359fd49",
   "outputs": [
    {
     "data": {
      "text/plain": [
       "[Entity(id='006872d9-58ba-4f89-a9ce-40e69b382ffd', short_id='994', title='梧桐树', type='EVENT', description='在诗中常用来象征秋天和离愁别绪的树木', description_embedding=None, name_embedding=None, community_ids=['34', '110'], text_unit_ids=['7f32a0860d5cbbfd6a170edfad5cde3369f292d95925658541c013279825eaab075ce1b7f944c67e18cbb6aad503e91395a44236f8407fb8de710b034f8f8106'], rank=3, attributes=None),\n",
       " Entity(id='0133c5a3-aa3e-474c-a28a-531a261937d3', short_id='805', title='中秋', type='EVENT', description='中国传统节日，桂花在此时节开放，被李清照称为花中之冠', description_embedding=None, name_embedding=None, community_ids=['34', '109'], text_unit_ids=['f44a1440a909266504e060ecd6b8f3998076e48084e3897de1131a0c88cc443de254a854a17aaae039ede00c11ff973c73d87bf21e4e1340cca17c1e28218b0e'], rank=1, attributes=None),\n",
       " Entity(id='013f2f31-bf4e-4c3b-bcb7-e3a4ba835f10', short_id='228', title='建康城', type='GEO', description='建康城，即古代的秣陵，是李清照生活和创作的重要地点之一。1128年12月，这位宋代女诗人曾登上建康城寻找诗歌的灵感。建康城不仅在李清照的生命轨迹中占据了一席之地，还与整个南宋历史背景紧密相连，见证了那个时代的文化与社会动态。李清照在那里的探访也反映了宋代知识分子对于文化遗产的重视与传承。', description_embedding=None, name_embedding=None, community_ids=['0', '40'], text_unit_ids=['1bfa4549bcc75d8423c8c6284c26bda435c8b830e1c798c4439f94e1e726695388d368b90171467784f164954c41a392c3bc4807389c6b50ae9c1780d0ad0d99', '730bec54708d4d8d093ba7365c1574ce97041e1c3eac0968fdc72be13cf7176055d23679568eda6bd06d693b6a58b220d5cb0a1240458f77a3e461fa09ed3e1c'], rank=1, attributes=None)]"
      ]
     },
     "execution_count": 6,
     "metadata": {},
     "output_type": "execute_result"
    }
   ],
   "execution_count": 6
  },
  {
   "metadata": {},
   "cell_type": "markdown",
   "source": "## 关系",
   "id": "aa3fb1f1f529269d"
  },
  {
   "metadata": {
    "ExecuteTime": {
     "end_time": "2025-03-31T02:26:02.679643Z",
     "start_time": "2025-03-31T02:26:02.658251Z"
    }
   },
   "cell_type": "code",
   "source": [
    "relationship_df = pd.read_parquet(f\"{INPUT_DIR}/{RELATIONSHIP_TABLE}.parquet\")\n",
    "relationships = read_indexer_relationships(relationship_df)\n",
    "print(f\"Relationship count: {len(relationship_df)}\")\n",
    "relationship_df.head(3)"
   ],
   "id": "6a7d560ffb899ca2",
   "outputs": [
    {
     "name": "stdout",
     "output_type": "stream",
     "text": [
      "Relationship count: 1138\n"
     ]
    },
    {
     "data": {
      "text/plain": [
       "                                     id  human_readable_id source target  \\\n",
       "0  2a5f9d86-1755-46cc-adc8-f7d78b99284e                  0     绍兴  1129年   \n",
       "1  6a68643a-acb6-4a9b-ac6f-d4a00a3d1c19                  1     高宗    李清照   \n",
       "2  15e689c4-27aa-453d-8243-dacd41d5d158                  2  1129年  《清平乐》   \n",
       "\n",
       "                                         description  weight  combined_degree  \\\n",
       "0                               李清照在1129年追随高宗途中居住于绍兴     2.0               15   \n",
       "1  李清照，南宋著名女词人，词风婉约，被誉为“词中的女杰”。在1129年至1130年间，李清照经...     6.0              472   \n",
       "2                        李清照在1129年创作了反映个人心路历程的词《清平乐》     2.0               11   \n",
       "\n",
       "                                       text_unit_ids  \n",
       "0  [ed0d7a7cec224017e5cfe7df292b6d6a031967471fba1...  \n",
       "1  [ed0d7a7cec224017e5cfe7df292b6d6a031967471fba1...  \n",
       "2  [ed0d7a7cec224017e5cfe7df292b6d6a031967471fba1...  "
      ],
      "text/html": [
       "<div>\n",
       "<style scoped>\n",
       "    .dataframe tbody tr th:only-of-type {\n",
       "        vertical-align: middle;\n",
       "    }\n",
       "\n",
       "    .dataframe tbody tr th {\n",
       "        vertical-align: top;\n",
       "    }\n",
       "\n",
       "    .dataframe thead th {\n",
       "        text-align: right;\n",
       "    }\n",
       "</style>\n",
       "<table border=\"1\" class=\"dataframe\">\n",
       "  <thead>\n",
       "    <tr style=\"text-align: right;\">\n",
       "      <th></th>\n",
       "      <th>id</th>\n",
       "      <th>human_readable_id</th>\n",
       "      <th>source</th>\n",
       "      <th>target</th>\n",
       "      <th>description</th>\n",
       "      <th>weight</th>\n",
       "      <th>combined_degree</th>\n",
       "      <th>text_unit_ids</th>\n",
       "    </tr>\n",
       "  </thead>\n",
       "  <tbody>\n",
       "    <tr>\n",
       "      <th>0</th>\n",
       "      <td>2a5f9d86-1755-46cc-adc8-f7d78b99284e</td>\n",
       "      <td>0</td>\n",
       "      <td>绍兴</td>\n",
       "      <td>1129年</td>\n",
       "      <td>李清照在1129年追随高宗途中居住于绍兴</td>\n",
       "      <td>2.0</td>\n",
       "      <td>15</td>\n",
       "      <td>[ed0d7a7cec224017e5cfe7df292b6d6a031967471fba1...</td>\n",
       "    </tr>\n",
       "    <tr>\n",
       "      <th>1</th>\n",
       "      <td>6a68643a-acb6-4a9b-ac6f-d4a00a3d1c19</td>\n",
       "      <td>1</td>\n",
       "      <td>高宗</td>\n",
       "      <td>李清照</td>\n",
       "      <td>李清照，南宋著名女词人，词风婉约，被誉为“词中的女杰”。在1129年至1130年间，李清照经...</td>\n",
       "      <td>6.0</td>\n",
       "      <td>472</td>\n",
       "      <td>[ed0d7a7cec224017e5cfe7df292b6d6a031967471fba1...</td>\n",
       "    </tr>\n",
       "    <tr>\n",
       "      <th>2</th>\n",
       "      <td>15e689c4-27aa-453d-8243-dacd41d5d158</td>\n",
       "      <td>2</td>\n",
       "      <td>1129年</td>\n",
       "      <td>《清平乐》</td>\n",
       "      <td>李清照在1129年创作了反映个人心路历程的词《清平乐》</td>\n",
       "      <td>2.0</td>\n",
       "      <td>11</td>\n",
       "      <td>[ed0d7a7cec224017e5cfe7df292b6d6a031967471fba1...</td>\n",
       "    </tr>\n",
       "  </tbody>\n",
       "</table>\n",
       "</div>"
      ]
     },
     "execution_count": 7,
     "metadata": {},
     "output_type": "execute_result"
    }
   ],
   "execution_count": 7
  },
  {
   "metadata": {
    "ExecuteTime": {
     "end_time": "2025-03-31T02:26:02.739808Z",
     "start_time": "2025-03-31T02:26:02.734795Z"
    }
   },
   "cell_type": "code",
   "source": "relationships[:3]",
   "id": "82ffaa269d8e445c",
   "outputs": [
    {
     "data": {
      "text/plain": [
       "[Relationship(id='2a5f9d86-1755-46cc-adc8-f7d78b99284e', short_id='0', source='绍兴', target='1129年', weight=2.0, description='李清照在1129年追随高宗途中居住于绍兴', description_embedding=None, text_unit_ids=['ed0d7a7cec224017e5cfe7df292b6d6a031967471fba15766cc24f3e2a6ea1938a39a6e1ade1469d75968ff39c54f128bdb85fd50969224885963128a6a43933'], rank=15, attributes=None),\n",
       " Relationship(id='6a68643a-acb6-4a9b-ac6f-d4a00a3d1c19', short_id='1', source='高宗', target='李清照', weight=6.0, description='李清照，南宋著名女词人，词风婉约，被誉为“词中的女杰”。在1129年至1130年间，李清照经历了一段颠沛流离的生活。据史料记载，她跟随当时的南宋君主高宗，也因金兵入侵南迁，至两浙一带。在1130年2月，她仍在追随高宗在浙东地区辗转流亡。这一时期，她所见所感都深深影响着她的作品，使其词作充满了对失去的家园的深切怀念和对动荡岁月的感慨。这一段经历不仅展示了其坚韧不拔的个性，也为研究李清照的词作提供了重要的历史背景。', description_embedding=None, text_unit_ids=['ed0d7a7cec224017e5cfe7df292b6d6a031967471fba15766cc24f3e2a6ea1938a39a6e1ade1469d75968ff39c54f128bdb85fd50969224885963128a6a43933', 'ca7bfa460129b5b6c75a6ef3f29eada7ffe11870437687ff65e703ff00bf54307f66033d716c0dd728ddb9a1634ddfdfd8d2e4f66c62637e1841137af9b27158', 'a271f2f2ad1c29c9ee6ed20fb724067746719ceb297ec999ce75e81cce64be9e2ae61bb21490160444fd3e9f48cd4ab915e65baae4ed07d85c1d0baef9c8226c'], rank=472, attributes=None),\n",
       " Relationship(id='15e689c4-27aa-453d-8243-dacd41d5d158', short_id='2', source='1129年', target='《清平乐》', weight=2.0, description='李清照在1129年创作了反映个人心路历程的词《清平乐》', description_embedding=None, text_unit_ids=['ed0d7a7cec224017e5cfe7df292b6d6a031967471fba15766cc24f3e2a6ea1938a39a6e1ade1469d75968ff39c54f128bdb85fd50969224885963128a6a43933'], rank=11, attributes=None)]"
      ]
     },
     "execution_count": 8,
     "metadata": {},
     "output_type": "execute_result"
    }
   ],
   "execution_count": 8
  },
  {
   "metadata": {},
   "cell_type": "markdown",
   "source": "",
   "id": "be6890fda192a9e9"
  },
  {
   "metadata": {},
   "cell_type": "markdown",
   "source": "## 报告",
   "id": "45ed59678ee7a7eb"
  },
  {
   "metadata": {
    "ExecuteTime": {
     "end_time": "2025-03-31T02:26:02.896827Z",
     "start_time": "2025-03-31T02:26:02.875364Z"
    }
   },
   "cell_type": "code",
   "source": [
    "report_df = pd.read_parquet(f\"{INPUT_DIR}/{COMMUNITY_REPORT_TABLE}.parquet\")\n",
    "\n",
    "print(f\"Report records: {len(report_df)}\")\n",
    "report_df.head(3)"
   ],
   "id": "ada3d0b856c9924f",
   "outputs": [
    {
     "name": "stdout",
     "output_type": "stream",
     "text": [
      "Report records: 122\n"
     ]
    },
    {
     "data": {
      "text/plain": [
       "                                 id  human_readable_id  community  level  \\\n",
       "0  455bee04dbf746b68cea169ac87f5836                112        112      2   \n",
       "1  9f2fff76dba04d34abd944f0bfa743cd                113        113      2   \n",
       "2  72ee3526d41b4e3f8fbbe32485c29544                114        114      2   \n",
       "\n",
       "   parent children           title  \\\n",
       "0      69       []   李清照与赵明诚的金石学研究   \n",
       "1      69       []  归来堂与1115年的文化交流   \n",
       "2      69       []     江宁与李清照的历史联系   \n",
       "\n",
       "                                             summary  \\\n",
       "0  本报告围绕宋代著名女诗人李清照及其丈夫赵明诚的金石学研究，特别是他们合著的《金石录》以及与文...   \n",
       "1  归来堂是李清照与赵明诚学术交流与合作的关键地点，1115年象征着这对夫妇在艺术与学问上的共同...   \n",
       "2  江宁作为历史著名的古都，在文人李清照的生活与作品中占据了重要的地位。李清照在1128年2月到...   \n",
       "\n",
       "                                        full_content  rank  \\\n",
       "0  # 李清照与赵明诚的金石学研究\\n\\n本报告围绕宋代著名女诗人李清照及其丈夫赵明诚的金石学研...   7.0   \n",
       "1  # 归来堂与1115年的文化交流\\n\\n归来堂是李清照与赵明诚学术交流与合作的关键地点，11...   2.0   \n",
       "2  # 江宁与李清照的历史联系\\n\\n江宁作为历史著名的古都，在文人李清照的生活与作品中占据了重...   4.0   \n",
       "\n",
       "                         rating_explanation  \\\n",
       "0       赵明诚与李清照在金石学研究和文学方面的成就，对中国历史文化有深远影响。   \n",
       "1  虽然这对夫妇对金石学的贡献被历史所记住，但其影响范围相对较小，主要局限于学术界。   \n",
       "2             江宁与李清照之间的联系在中国历史和文化上具有一定的重要性。   \n",
       "\n",
       "                                            findings  \\\n",
       "0  [{'explanation': '《金石录》是由李清照和赵明诚共同整理，其记录了大量的金石...   \n",
       "1  [{'explanation': '1115年是李清照的个人艺术成就的标志性年份，她创作了著...   \n",
       "2  [{'explanation': '江宁既是中国历史上的重要古都，也是许多文人墨客的创作寄托...   \n",
       "\n",
       "                                   full_content_json      period  size  \n",
       "0  {\\n    \"title\": \"李清照与赵明诚的金石学研究\",\\n    \"summary...  2025-03-28     6  \n",
       "1  {\\n    \"title\": \"归来堂与1115年的文化交流\",\\n    \"summar...  2025-03-28     2  \n",
       "2  {\\n    \"title\": \"江宁与李清照的历史联系\",\\n    \"summary\":...  2025-03-28     2  "
      ],
      "text/html": [
       "<div>\n",
       "<style scoped>\n",
       "    .dataframe tbody tr th:only-of-type {\n",
       "        vertical-align: middle;\n",
       "    }\n",
       "\n",
       "    .dataframe tbody tr th {\n",
       "        vertical-align: top;\n",
       "    }\n",
       "\n",
       "    .dataframe thead th {\n",
       "        text-align: right;\n",
       "    }\n",
       "</style>\n",
       "<table border=\"1\" class=\"dataframe\">\n",
       "  <thead>\n",
       "    <tr style=\"text-align: right;\">\n",
       "      <th></th>\n",
       "      <th>id</th>\n",
       "      <th>human_readable_id</th>\n",
       "      <th>community</th>\n",
       "      <th>level</th>\n",
       "      <th>parent</th>\n",
       "      <th>children</th>\n",
       "      <th>title</th>\n",
       "      <th>summary</th>\n",
       "      <th>full_content</th>\n",
       "      <th>rank</th>\n",
       "      <th>rating_explanation</th>\n",
       "      <th>findings</th>\n",
       "      <th>full_content_json</th>\n",
       "      <th>period</th>\n",
       "      <th>size</th>\n",
       "    </tr>\n",
       "  </thead>\n",
       "  <tbody>\n",
       "    <tr>\n",
       "      <th>0</th>\n",
       "      <td>455bee04dbf746b68cea169ac87f5836</td>\n",
       "      <td>112</td>\n",
       "      <td>112</td>\n",
       "      <td>2</td>\n",
       "      <td>69</td>\n",
       "      <td>[]</td>\n",
       "      <td>李清照与赵明诚的金石学研究</td>\n",
       "      <td>本报告围绕宋代著名女诗人李清照及其丈夫赵明诚的金石学研究，特别是他们合著的《金石录》以及与文...</td>\n",
       "      <td># 李清照与赵明诚的金石学研究\\n\\n本报告围绕宋代著名女诗人李清照及其丈夫赵明诚的金石学研...</td>\n",
       "      <td>7.0</td>\n",
       "      <td>赵明诚与李清照在金石学研究和文学方面的成就，对中国历史文化有深远影响。</td>\n",
       "      <td>[{'explanation': '《金石录》是由李清照和赵明诚共同整理，其记录了大量的金石...</td>\n",
       "      <td>{\\n    \"title\": \"李清照与赵明诚的金石学研究\",\\n    \"summary...</td>\n",
       "      <td>2025-03-28</td>\n",
       "      <td>6</td>\n",
       "    </tr>\n",
       "    <tr>\n",
       "      <th>1</th>\n",
       "      <td>9f2fff76dba04d34abd944f0bfa743cd</td>\n",
       "      <td>113</td>\n",
       "      <td>113</td>\n",
       "      <td>2</td>\n",
       "      <td>69</td>\n",
       "      <td>[]</td>\n",
       "      <td>归来堂与1115年的文化交流</td>\n",
       "      <td>归来堂是李清照与赵明诚学术交流与合作的关键地点，1115年象征着这对夫妇在艺术与学问上的共同...</td>\n",
       "      <td># 归来堂与1115年的文化交流\\n\\n归来堂是李清照与赵明诚学术交流与合作的关键地点，11...</td>\n",
       "      <td>2.0</td>\n",
       "      <td>虽然这对夫妇对金石学的贡献被历史所记住，但其影响范围相对较小，主要局限于学术界。</td>\n",
       "      <td>[{'explanation': '1115年是李清照的个人艺术成就的标志性年份，她创作了著...</td>\n",
       "      <td>{\\n    \"title\": \"归来堂与1115年的文化交流\",\\n    \"summar...</td>\n",
       "      <td>2025-03-28</td>\n",
       "      <td>2</td>\n",
       "    </tr>\n",
       "    <tr>\n",
       "      <th>2</th>\n",
       "      <td>72ee3526d41b4e3f8fbbe32485c29544</td>\n",
       "      <td>114</td>\n",
       "      <td>114</td>\n",
       "      <td>2</td>\n",
       "      <td>69</td>\n",
       "      <td>[]</td>\n",
       "      <td>江宁与李清照的历史联系</td>\n",
       "      <td>江宁作为历史著名的古都，在文人李清照的生活与作品中占据了重要的地位。李清照在1128年2月到...</td>\n",
       "      <td># 江宁与李清照的历史联系\\n\\n江宁作为历史著名的古都，在文人李清照的生活与作品中占据了重...</td>\n",
       "      <td>4.0</td>\n",
       "      <td>江宁与李清照之间的联系在中国历史和文化上具有一定的重要性。</td>\n",
       "      <td>[{'explanation': '江宁既是中国历史上的重要古都，也是许多文人墨客的创作寄托...</td>\n",
       "      <td>{\\n    \"title\": \"江宁与李清照的历史联系\",\\n    \"summary\":...</td>\n",
       "      <td>2025-03-28</td>\n",
       "      <td>2</td>\n",
       "    </tr>\n",
       "  </tbody>\n",
       "</table>\n",
       "</div>"
      ]
     },
     "execution_count": 9,
     "metadata": {},
     "output_type": "execute_result"
    }
   ],
   "execution_count": 9
  },
  {
   "metadata": {
    "ExecuteTime": {
     "end_time": "2025-03-31T02:26:03.023617Z",
     "start_time": "2025-03-31T02:26:03.005215Z"
    }
   },
   "cell_type": "code",
   "source": [
    "reports = read_indexer_reports(report_df, entity_embedding_df, COMMUNITY_LEVEL)\n",
    "reports[:3]"
   ],
   "id": "6b0dae0246f58691",
   "outputs": [
    {
     "data": {
      "text/plain": [
       "[CommunityReport(id='455bee04dbf746b68cea169ac87f5836', short_id='112', title='李清照与赵明诚的金石学研究', community_id='112', summary='本报告围绕宋代著名女诗人李清照及其丈夫赵明诚的金石学研究，特别是他们合著的《金石录》以及与文人陆德夫的文学交流。此外，赵明诚在1129年前往行在的个人经历也被纳入考量。', full_content='# 李清照与赵明诚的金石学研究\\n\\n本报告围绕宋代著名女诗人李清照及其丈夫赵明诚的金石学研究，特别是他们合著的《金石录》以及与文人陆德夫的文学交流。此外，赵明诚在1129年前往行在的个人经历也被纳入考量。\\n\\n## 《金石录》的学术价值\\n\\n《金石录》是由李清照和赵明诚共同整理，其记录了大量的金石拓片及其解读，反映了二人对金石文物的深刻理解和广泛收集整理工作[数据：实体（391），关系（563）]。\\n\\n## 李清照的文学与金石学成就\\n\\n李清照不仅在诗词歌赋方面有卓越成就，同时也在文物研究与历史文化保存方面做出了贡献，这体现在她合著的《金石录》以及与陆德夫的文学交流中[数据：实体（391），关系（932）]。\\n\\n## 赵明诚与陆德夫的文学交流\\n\\n赵明诚与陆德夫之间的关系突显了宋代文学社群的交流模式。赵明诚不仅赞赏李清照的创作，还将她的词与自身的作品融合后呈现给陆德夫[数据：实体（860），关系（932）]。\\n\\n## 赵明诚在1129年的经历\\n\\n在1129年，赵明诚离开江宁，并在6月13日前往建康，这表明了他个人与行政事务的关联[数据：实体（919，311），关系（988，351，992）]。\\n\\n## 赵明诚与李清照的深刻连接\\n\\n无论是在专业的金石学合作还是日常生活的点滴中，赵明诚与李清照之间的关系深深植根于他们的作品和情感生活中[数据：实体（391，148），关系（563，168）]。', rank=7.0, full_content_embedding=None, attributes=None, size=None, period=None),\n",
       " CommunityReport(id='9f2fff76dba04d34abd944f0bfa743cd', short_id='113', title='归来堂与1115年的文化交流', community_id='113', summary='归来堂是李清照与赵明诚学术交流与合作的关键地点，1115年象征着这对夫妇在艺术与学问上的共同成就。在这一年，归来堂见证了两人的文化交流，特别是在金石学领域的贡献。', full_content='# 归来堂与1115年的文化交流\\n\\n归来堂是李清照与赵明诚学术交流与合作的关键地点，1115年象征着这对夫妇在艺术与学问上的共同成就。在这一年，归来堂见证了两人的文化交流，特别是在金石学领域的贡献。\\n\\n## 李清照在1115年的艺术创作\\n\\n1115年是李清照的个人艺术成就的标志性年份，她创作了著名词作《浣溪沙》。这一作品不仅展示了她的才华，也反映了宋代女性生活的一面，并对后世词派产生了深远的影响。[数据：实体（752）]\\n\\n## 归来堂在文化交流中的作用\\n\\n归来堂是李清照和赵明诚共同研究金石刻辞的空间，它不仅是他们的居所，也是两人交流学问和情感的地方。他们的合作提升了金石学的发展，也塑造了中华文化宝库。[数据：实体（530），关系（1111）]\\n\\n## 赵明诚与李清照的合作关系\\n\\n赵明诚和李清照在归来堂的共同生活和学术合作体现了两人在学术及生活上亲密无间的关系。他们对金石学的共同贡献和对古文物的鉴赏显示了他们在文化艺术领域的独特影响力。[数据：关系（1111）]', rank=2.0, full_content_embedding=None, attributes=None, size=None, period=None),\n",
       " CommunityReport(id='72ee3526d41b4e3f8fbbe32485c29544', short_id='114', title='江宁与李清照的历史联系', community_id='114', summary='江宁作为历史著名的古都，在文人李清照的生活与作品中占据了重要的地位。李清照在1128年2月到达江宁，并在此留下了她对当地梅花的赞美。', full_content='# 江宁与李清照的历史联系\\n\\n江宁作为历史著名的古都，在文人李清照的生活与作品中占据了重要的地位。李清照在1128年2月到达江宁，并在此留下了她对当地梅花的赞美。\\n\\n## 江宁的历史地位\\n\\n江宁既是中国历史上的重要古都，也是许多文人墨客的创作寄托地。李清照与其夫赵明诚在江宁的生活及文学创作为这座城市增添了丰富的文化遗产。[数据：实体（173）]\\n\\n## 李清照的到达与创作\\n\\n李清照在1128年2月抵达江宁的事件对于理解她的文学作品和情感表达至关重要，其在江宁的经历和创作活动表明这个时间节点和地点的文化重要性。[数据：实体（175），关系（199）]', rank=4.0, full_content_embedding=None, attributes=None, size=None, period=None)]"
      ]
     },
     "execution_count": 10,
     "metadata": {},
     "output_type": "execute_result"
    }
   ],
   "execution_count": 10
  },
  {
   "metadata": {},
   "cell_type": "markdown",
   "source": "## 文本块",
   "id": "f923d630d84c5786"
  },
  {
   "metadata": {
    "ExecuteTime": {
     "end_time": "2025-03-31T02:26:03.153336Z",
     "start_time": "2025-03-31T02:26:03.135538Z"
    }
   },
   "cell_type": "code",
   "source": [
    "text_unit_df = pd.read_parquet(f\"{INPUT_DIR}/{TEXT_UNIT_TABLE}.parquet\")\n",
    "\n",
    "print(f\"Text unit records: {len(text_unit_df)}\")\n",
    "text_unit_df.head(3)"
   ],
   "id": "16031d6d6fd07224",
   "outputs": [
    {
     "name": "stdout",
     "output_type": "stream",
     "text": [
      "Text unit records: 100\n"
     ]
    },
    {
     "data": {
      "text/plain": [
       "                                                  id  human_readable_id  \\\n",
       "0  ed0d7a7cec224017e5cfe7df292b6d6a031967471fba15...                  1   \n",
       "1  ca7bfa460129b5b6c75a6ef3f29eada7ffe11870437687...                  2   \n",
       "2  35db9c01730e44b834f55c18ffe1db83515f95c656b2d9...                  3   \n",
       "\n",
       "                                                text  n_tokens  \\\n",
       "0  绍兴（1129年，46岁，作品：1）\\n1129年，46岁\\n1129年　追随高宗于两浙，有...      1200   \n",
       "1  世的艰辛。当年那种赏梅的雅兴大减。这两句写的就是词人婚后的这段生活，表现的是一种百无聊赖、忧...      1027   \n",
       "2  7月　金人立刘豫为帝，清照作诗斥伪齐。作品：《咏史》\\n\\n绍兴（1131年3月 - 113...       127   \n",
       "\n",
       "                                        document_ids  \\\n",
       "0  [03e4742412e1be85fbc7a7737fe0cc9da4241d2ce5e76...   \n",
       "1  [03e4742412e1be85fbc7a7737fe0cc9da4241d2ce5e76...   \n",
       "2  [03e4742412e1be85fbc7a7737fe0cc9da4241d2ce5e76...   \n",
       "\n",
       "                                          entity_ids  \\\n",
       "0  [7d8dfeeb-d5f6-4f25-ae86-f69c7994249e, 73125e5...   \n",
       "1  [7d8dfeeb-d5f6-4f25-ae86-f69c7994249e, 73125e5...   \n",
       "2  [7d8dfeeb-d5f6-4f25-ae86-f69c7994249e, 73125e5...   \n",
       "\n",
       "                                    relationship_ids covariate_ids  \n",
       "0  [2a5f9d86-1755-46cc-adc8-f7d78b99284e, 6a68643...            []  \n",
       "1  [6a68643a-acb6-4a9b-ac6f-d4a00a3d1c19, feacc67...            []  \n",
       "2  [e6c0a66e-70f9-44da-bb35-ddc48882bcb8, 796f3ca...            []  "
      ],
      "text/html": [
       "<div>\n",
       "<style scoped>\n",
       "    .dataframe tbody tr th:only-of-type {\n",
       "        vertical-align: middle;\n",
       "    }\n",
       "\n",
       "    .dataframe tbody tr th {\n",
       "        vertical-align: top;\n",
       "    }\n",
       "\n",
       "    .dataframe thead th {\n",
       "        text-align: right;\n",
       "    }\n",
       "</style>\n",
       "<table border=\"1\" class=\"dataframe\">\n",
       "  <thead>\n",
       "    <tr style=\"text-align: right;\">\n",
       "      <th></th>\n",
       "      <th>id</th>\n",
       "      <th>human_readable_id</th>\n",
       "      <th>text</th>\n",
       "      <th>n_tokens</th>\n",
       "      <th>document_ids</th>\n",
       "      <th>entity_ids</th>\n",
       "      <th>relationship_ids</th>\n",
       "      <th>covariate_ids</th>\n",
       "    </tr>\n",
       "  </thead>\n",
       "  <tbody>\n",
       "    <tr>\n",
       "      <th>0</th>\n",
       "      <td>ed0d7a7cec224017e5cfe7df292b6d6a031967471fba15...</td>\n",
       "      <td>1</td>\n",
       "      <td>绍兴（1129年，46岁，作品：1）\\n1129年，46岁\\n1129年　追随高宗于两浙，有...</td>\n",
       "      <td>1200</td>\n",
       "      <td>[03e4742412e1be85fbc7a7737fe0cc9da4241d2ce5e76...</td>\n",
       "      <td>[7d8dfeeb-d5f6-4f25-ae86-f69c7994249e, 73125e5...</td>\n",
       "      <td>[2a5f9d86-1755-46cc-adc8-f7d78b99284e, 6a68643...</td>\n",
       "      <td>[]</td>\n",
       "    </tr>\n",
       "    <tr>\n",
       "      <th>1</th>\n",
       "      <td>ca7bfa460129b5b6c75a6ef3f29eada7ffe11870437687...</td>\n",
       "      <td>2</td>\n",
       "      <td>世的艰辛。当年那种赏梅的雅兴大减。这两句写的就是词人婚后的这段生活，表现的是一种百无聊赖、忧...</td>\n",
       "      <td>1027</td>\n",
       "      <td>[03e4742412e1be85fbc7a7737fe0cc9da4241d2ce5e76...</td>\n",
       "      <td>[7d8dfeeb-d5f6-4f25-ae86-f69c7994249e, 73125e5...</td>\n",
       "      <td>[6a68643a-acb6-4a9b-ac6f-d4a00a3d1c19, feacc67...</td>\n",
       "      <td>[]</td>\n",
       "    </tr>\n",
       "    <tr>\n",
       "      <th>2</th>\n",
       "      <td>35db9c01730e44b834f55c18ffe1db83515f95c656b2d9...</td>\n",
       "      <td>3</td>\n",
       "      <td>7月　金人立刘豫为帝，清照作诗斥伪齐。作品：《咏史》\\n\\n绍兴（1131年3月 - 113...</td>\n",
       "      <td>127</td>\n",
       "      <td>[03e4742412e1be85fbc7a7737fe0cc9da4241d2ce5e76...</td>\n",
       "      <td>[7d8dfeeb-d5f6-4f25-ae86-f69c7994249e, 73125e5...</td>\n",
       "      <td>[e6c0a66e-70f9-44da-bb35-ddc48882bcb8, 796f3ca...</td>\n",
       "      <td>[]</td>\n",
       "    </tr>\n",
       "  </tbody>\n",
       "</table>\n",
       "</div>"
      ]
     },
     "execution_count": 11,
     "metadata": {},
     "output_type": "execute_result"
    }
   ],
   "execution_count": 11
  },
  {
   "metadata": {
    "ExecuteTime": {
     "end_time": "2025-03-31T02:26:03.231753Z",
     "start_time": "2025-03-31T02:26:03.224528Z"
    }
   },
   "cell_type": "code",
   "source": [
    "text_units = read_indexer_text_units(text_unit_df)\n",
    "text_units[:3]"
   ],
   "id": "a750b911820571ee",
   "outputs": [
    {
     "data": {
      "text/plain": [
       "[TextUnit(id='ed0d7a7cec224017e5cfe7df292b6d6a031967471fba15766cc24f3e2a6ea1938a39a6e1ade1469d75968ff39c54f128bdb85fd50969224885963128a6a43933', short_id='0', text='绍兴（1129年，46岁，作品：1）\\n1129年，46岁\\n1129年\\u3000追随高宗于两浙，有词写奔亡之苦。作品：《清平乐》（年年雪里）\\n\\n清平乐（1129年） 宋 · 李清照\\n年年雪里，常插梅花醉，挼尽梅花无好意，赢得满衣清泪！\\n今年海角天涯，萧萧两鬓生华。\\n看取晚来风势，故应难看梅花。\\n【评注】\\n这是一首典型的赏梅词作，借不同时期的赏梅感爱写出了词人个人的心路历程：少年的欢乐，中年的幽怨，晚年的沧落，在词中都约略可见。词意含蓄蕴藉，感情悲切哀婉，以赏梅寄寓自己的今苦之感和永国之忧，感慨深沉。\\n上阕回忆往昔赏梅生活，分为两层。“年年雪里，常插梅花醉 。”这两句抓住富有特征的生活细节生动地再现了词人早年赏梅的情景和兴致，表现出少女的纯真 、欢乐和闲适。她早年写下的咏梅词《渔家傲》中有句云 ：“雪里已知春信至，寒梅点缀琼枝腻⋯⋯共赏金尊沉绿蚁，莫辞醉，此花不与群花比 。”可作为“年年雪里，常插梅花醉”的注脚。接下来“挼尽梅花无好意 ，赢得满衣清泪”两句，心绪显然不同，虽然梅枝在手，却无好心情去赏玩，只是漫不经心地揉搓着。赏梅原本为的是排遣心头的忧伤，可是本来心情就不好，到头来不仅忧伤没有消除，反倒触景生情，激起更深的伤感，落得个“满衣清泪 ”。花还是昔日的花，然而花相似，人不同，物是人非，怎不使人伤心落泪呢？李清照婚后，夫妻志同道合、伉俩相得，生活美满幸福。但是，时常发生的短暂离别使她识尽离愁别苦。在婚后六、七年的时间里，李赵两家相继罹祸，紧接着就开始了长期的“屏居乡里”的生活。生活的坎坷使她屡处忧患，饱尝人世的艰辛。当年那种赏梅的雅兴大减。这两句写的就是词人婚后的这段生活，表现的是一种百无聊赖、忧伤怨恨的情绪。\\n上阕四句回忆了作者两个生活阶段赏梅时的又一不同情景和心情。\\n下阕以“今年”两字领起，同上阕的“年年”相对 。往年是“常插梅花醉”；即使是“挼尽梅花无好意”的时候，也多半为的是离别相思。眼前却截然不同了，“今年海角天涯，萧萧两鬓生华”，这里面包含着几多辛酸和哀愁。词人南渡后，特别是丈夫去世后更是颠沛流离，沦落漂零。生活的折磨使词人很快变得憔悴', entity_ids=['7d8dfeeb-d5f6-4f25-ae86-f69c7994249e', '73125e53-678d-4ca9-b526-7679bf230aec', '615e99dc-26e7-4a59-b424-b628ea596305', 'b86c13b7-c7c8-42e3-92ae-3269f4ff4d70', '5784bc8a-b1a9-497d-9df4-9f65b356e151', '88e70000-325e-4d54-a50a-c03305adacdd', 'e935cc00-9aed-4cf3-a0d4-906d70f9cde2'], relationship_ids=['2a5f9d86-1755-46cc-adc8-f7d78b99284e', '6a68643a-acb6-4a9b-ac6f-d4a00a3d1c19', '15e689c4-27aa-453d-8243-dacd41d5d158', 'cda17aa6-cfe1-4300-839a-745f38df7c69', '38b51911-20f2-4654-800e-cd558d266fff'], covariate_ids=None, n_tokens=1200, document_ids=['03e4742412e1be85fbc7a7737fe0cc9da4241d2ce5e7607d27269d748a281170f3b1c5e9eaff7de6d903d7c6ebf4664dc996d24c64a7dd9328f9ac98bbf4ceec'], attributes=None),\n",
       " TextUnit(id='ca7bfa460129b5b6c75a6ef3f29eada7ffe11870437687ff65e703ff00bf54307f66033d716c0dd728ddb9a1634ddfdfd8d2e4f66c62637e1841137af9b27158', short_id='1', text='世的艰辛。当年那种赏梅的雅兴大减。这两句写的就是词人婚后的这段生活，表现的是一种百无聊赖、忧伤怨恨的情绪。\\n上阕四句回忆了作者两个生活阶段赏梅时的又一不同情景和心情。\\n下阕以“今年”两字领起，同上阕的“年年”相对 。往年是“常插梅花醉”；即使是“挼尽梅花无好意”的时候，也多半为的是离别相思。眼前却截然不同了，“今年海角天涯，萧萧两鬓生华”，这里面包含着几多辛酸和哀愁。词人南渡后，特别是丈夫去世后更是颠沛流离，沦落漂零。生活的折磨使词人很快变得憔悴苍老，头发稀疏，两鬓花白。如今虽然赏梅季节又到，可是哪里还有心思去插梅呢？而且看来晚上要刮大风，将难以晴夜赏梅了。而且一夜风霜，明朝梅花就要凋零败落，即使想看也看不成了 。“看取晚来风势，故应难看梅花”一句还寄托着词人对国事的忧怀。这里的“风势”既是自然的“风势”也是政治的“风势”，即“国势”，寄寓着作者为国势衰颓而担忧的心绪 。“梅花”以比美好事物，“难看梅花”，则是指国家的遭难 ，而且颇有经受不住之势。在这种情况下 ，她哪里还有赏梅的闲情逸致呢！身世之苦、国家之难揉合在一起，词的思想境界为之升华。这首词依次描写作者在少年、中年和晚年三个不同的生活阶段中赏梅的不同情致 ：少年时赏梅醉酒、中年时对梅重泪和晚年时无心赏梅 ，运用对比手法，物态人事双关，表现出词人生活的巨变，着重写作者晚漂零凄之境和国破家亡之悲，真切感人。\\n\\n\\n绍兴（1130年2月，47岁）\\n1130年，47岁\\n1130年2月\\u3000追随高宗辗转浙东，又到越州。\\n\\n绍兴（1130年4月 - 1130年7月，47岁）\\n1130年，47岁\\n1130年4月\\u3000高宗驻越州，清照亦居越州。\\n1130年7月\\u3000金人立刘豫为帝，清照作诗斥伪齐。作品：《咏史》\\n\\n绍兴（1131年3月 - 1131年8月4日，48岁）\\n1131年，48岁\\n1131年3月\\u3000复追随高宗赴越州，文物被盗五簏。\\n1131年8月4日\\u3000弟李迒转一官，权工部侍郎。', entity_ids=['7d8dfeeb-d5f6-4f25-ae86-f69c7994249e', '73125e53-678d-4ca9-b526-7679bf230aec', 'e935cc00-9aed-4cf3-a0d4-906d70f9cde2', '02ddf0e7-d06a-4a57-ad3d-7a877a66b342', 'bd8701a9-da7e-4909-a3fa-523892453db6', '578356ae-6b15-479a-a2ec-fbc6bc8bd56f', 'f2e7d6aa-551a-42eb-8e94-48e4ec322a68', 'c98b59bd-2924-47b9-9a39-734b740f7a0e', '418b20a6-4694-45db-b578-048100b63d44', 'a71a6e53-0d94-4276-a5ed-0a7fc87b826a', '236973a5-d4c4-4fa6-b8e9-042fe44ecdfb', '05e468b3-6dbb-45f2-a054-7ac1fdab1a1c', '01e9fd58-d39a-411e-a914-7b226f5d178d'], relationship_ids=['6a68643a-acb6-4a9b-ac6f-d4a00a3d1c19', 'feacc670-7d87-4500-b081-d75ce20ccbeb', '472ba9ab-17a8-4878-976d-d9185083f1ad', 'e22827ec-3b58-4bec-a854-aac087440a33', '56bd9834-e50a-40d8-b5c7-d5bdc371be71', '4e548450-3ed9-475d-92eb-ade1d35508f6', '24ecde22-67df-44a6-93a9-ad68e679e3c0', '7e1d2786-b628-4e16-b0aa-68d741a2f09b', '385e3a5d-cc32-4651-ab88-9759e63d2c33', '669af96e-6dab-4708-a132-f76d8ddefb59', 'e6c0a66e-70f9-44da-bb35-ddc48882bcb8'], covariate_ids=None, n_tokens=1027, document_ids=['03e4742412e1be85fbc7a7737fe0cc9da4241d2ce5e7607d27269d748a281170f3b1c5e9eaff7de6d903d7c6ebf4664dc996d24c64a7dd9328f9ac98bbf4ceec'], attributes=None),\n",
       " TextUnit(id='35db9c01730e44b834f55c18ffe1db83515f95c656b2d9c1adb13ba8cc4421098891abd820b3026dd248b8e5400b13273c793671cff0f9257d034bc3fb826704', short_id='2', text='7月\\u3000金人立刘豫为帝，清照作诗斥伪齐。作品：《咏史》\\n\\n绍兴（1131年3月 - 1131年8月4日，48岁）\\n1131年，48岁\\n1131年3月\\u3000复追随高宗赴越州，文物被盗五簏。\\n1131年8月4日\\u3000弟李迒转一官，权工部侍郎。', entity_ids=['7d8dfeeb-d5f6-4f25-ae86-f69c7994249e', '73125e53-678d-4ca9-b526-7679bf230aec', '02ddf0e7-d06a-4a57-ad3d-7a877a66b342', 'bd8701a9-da7e-4909-a3fa-523892453db6', '578356ae-6b15-479a-a2ec-fbc6bc8bd56f', 'f2e7d6aa-551a-42eb-8e94-48e4ec322a68', '236973a5-d4c4-4fa6-b8e9-042fe44ecdfb', '05e468b3-6dbb-45f2-a054-7ac1fdab1a1c', '01e9fd58-d39a-411e-a914-7b226f5d178d', 'c37b67f6-3e27-40fb-a5eb-54329972f316'], relationship_ids=['e6c0a66e-70f9-44da-bb35-ddc48882bcb8', '796f3cae-595e-40a6-ba2e-cedaef3f0515', '8be0ae9f-233f-4da3-a940-9bfbdc362d10', '440a575c-4f29-48a4-946e-eeb7c0269b4e', '0bfef38b-b413-4ccf-84dc-b37b128476c5', '5de8b43a-2350-4099-a020-621bfe5c3f82', '3447cad1-9e35-441d-8b7f-38494bd2d70f', 'b5cadd0a-f073-416c-8b10-2a77d2e94b50', 'f744cd5c-8e5b-4bb3-86cb-b827f8b159cf', 'c6c87717-0169-49d1-b578-2c3802a592da', '967f2291-c3b0-4588-a540-d3bd28dc40a5', 'ded13e0a-134b-4649-9edb-700bc8cf7269', 'd26fad8d-3992-4b66-bb1a-f58589ddda8b'], covariate_ids=None, n_tokens=127, document_ids=['03e4742412e1be85fbc7a7737fe0cc9da4241d2ce5e7607d27269d748a281170f3b1c5e9eaff7de6d903d7c6ebf4664dc996d24c64a7dd9328f9ac98bbf4ceec'], attributes=None)]"
      ]
     },
     "execution_count": 12,
     "metadata": {},
     "output_type": "execute_result"
    }
   ],
   "execution_count": 12
  },
  {
   "metadata": {
    "ExecuteTime": {
     "end_time": "2025-03-31T02:26:03.351631Z",
     "start_time": "2025-03-31T02:26:03.348632Z"
    }
   },
   "cell_type": "code",
   "source": "",
   "id": "d2e28b0f4ce7fa0c",
   "outputs": [],
   "execution_count": null
  },
  {
   "metadata": {
    "ExecuteTime": {
     "end_time": "2025-03-31T02:26:03.621257Z",
     "start_time": "2025-03-31T02:26:03.431921Z"
    }
   },
   "cell_type": "code",
   "source": [
    "import requests\n",
    "from typing import Any, Dict, List\n",
    "\n",
    "class OpenaiApiType:\n",
    "    \"\"\"\n",
    "    Enum-like class to define API types.\n",
    "    \"\"\"\n",
    "    OpenAI = \"openai\"\n",
    "    Azure = \"azure\"\n",
    "    Custom = \"custom\"\n",
    "\n",
    "class OpenAIEmbedding:\n",
    "    def __init__(\n",
    "        self,\n",
    "        api_key: str,\n",
    "        api_base: str,\n",
    "        api_type: str,\n",
    "        model: str,\n",
    "        max_retries: int = 3,\n",
    "    ):\n",
    "        self.api_key = api_key\n",
    "        self.api_base = api_base.rstrip(\"/\")  # Ensure no trailing slash\n",
    "        self.api_type = api_type\n",
    "        self.model = model\n",
    "        self.max_retries = max_retries\n",
    "\n",
    "    def embed(self, text: str, **kwargs: Any) -> List[float]:\n",
    "        url = f\"{self.api_base}/embeddings\"\n",
    "        payload = {\n",
    "            \"model\": self.model,\n",
    "            \"input\": text,\n",
    "            **kwargs,\n",
    "        }\n",
    "        headers = {\n",
    "            \"Content-Type\": \"application/json\",\n",
    "            \"Authorization\": f\"Bearer {self.api_key}\",\n",
    "        }\n",
    "\n",
    "        retries = 0\n",
    "        while retries < self.max_retries:\n",
    "            try:\n",
    "                response = requests.post(url, json=payload, headers=headers)\n",
    "                response.raise_for_status()  # Raise an exception for HTTP errors\n",
    "                data = response.json()\n",
    "                return data.get(\"data\", [])[0].get(\"embedding\", [])\n",
    "            except requests.exceptions.RequestException as e:\n",
    "                retries += 1\n",
    "                if retries >= self.max_retries:\n",
    "                    raise RuntimeError(f\"Failed to generate embedding after {self.max_retries} retries: {e}\")\n",
    "                print(f\"Retrying... ({retries}/{self.max_retries})\")\n"
   ],
   "id": "41471afa4c2b399",
   "outputs": [],
   "execution_count": 13
  },
  {
   "metadata": {
    "ExecuteTime": {
     "end_time": "2025-03-31T02:26:10.032533Z",
     "start_time": "2025-03-31T02:26:03.625266Z"
    }
   },
   "cell_type": "code",
   "source": [
    "import tiktoken\n",
    "token_encoder = tiktoken.get_encoding(\"cl100k_base\")\n",
    "\n",
    "text_embedder = OpenAIEmbedding(\n",
    "    api_key='ollama',\n",
    "    api_base=\"http://localhost:11434/v1\",\n",
    "    api_type=OpenaiApiType.OpenAI,\n",
    "    model='mxbai-embed-large',\n",
    "    max_retries=20,\n",
    ")"
   ],
   "id": "25e06d26bcb07eaf",
   "outputs": [],
   "execution_count": 14
  },
  {
   "metadata": {
    "ExecuteTime": {
     "end_time": "2025-03-31T02:27:04.058366Z",
     "start_time": "2025-03-31T02:26:10.051146Z"
    }
   },
   "cell_type": "code",
   "source": [
    "text = \"李清照你的父亲是谁\"\n",
    "embedding = text_embedder.embed(text)\n",
    "print(f\"Embedding: {embedding}\")"
   ],
   "id": "7737da508e2aa8bb",
   "outputs": [
    {
     "name": "stdout",
     "output_type": "stream",
     "text": [
      "Retrying... (1/20)\n",
      "Retrying... (2/20)\n",
      "Retrying... (3/20)\n",
      "Retrying... (4/20)\n",
      "Retrying... (5/20)\n",
      "Retrying... (6/20)\n",
      "Retrying... (7/20)\n",
      "Retrying... (8/20)\n",
      "Retrying... (9/20)\n",
      "Retrying... (10/20)\n",
      "Retrying... (11/20)\n",
      "Retrying... (12/20)\n"
     ]
    },
    {
     "ename": "KeyboardInterrupt",
     "evalue": "",
     "output_type": "error",
     "traceback": [
      "\u001B[1;31m---------------------------------------------------------------------------\u001B[0m",
      "\u001B[1;31mConnectionRefusedError\u001B[0m                    Traceback (most recent call last)",
      "File \u001B[1;32mD:\\anaconda3\\Lib\\site-packages\\urllib3\\util\\connection.py:73\u001B[0m, in \u001B[0;36mcreate_connection\u001B[1;34m(address, timeout, source_address, socket_options)\u001B[0m\n\u001B[0;32m     72\u001B[0m     sock\u001B[38;5;241m.\u001B[39mbind(source_address)\n\u001B[1;32m---> 73\u001B[0m \u001B[43msock\u001B[49m\u001B[38;5;241;43m.\u001B[39;49m\u001B[43mconnect\u001B[49m\u001B[43m(\u001B[49m\u001B[43msa\u001B[49m\u001B[43m)\u001B[49m\n\u001B[0;32m     74\u001B[0m \u001B[38;5;66;03m# Break explicitly a reference cycle\u001B[39;00m\n",
      "\u001B[1;31mConnectionRefusedError\u001B[0m: [WinError 10061] 由于目标计算机积极拒绝，无法连接。",
      "\nDuring handling of the above exception, another exception occurred:\n",
      "\u001B[1;31mKeyboardInterrupt\u001B[0m                         Traceback (most recent call last)",
      "Cell \u001B[1;32mIn[15], line 2\u001B[0m\n\u001B[0;32m      1\u001B[0m text \u001B[38;5;241m=\u001B[39m \u001B[38;5;124m\"\u001B[39m\u001B[38;5;124m李清照你的父亲是谁\u001B[39m\u001B[38;5;124m\"\u001B[39m\n\u001B[1;32m----> 2\u001B[0m embedding \u001B[38;5;241m=\u001B[39m \u001B[43mtext_embedder\u001B[49m\u001B[38;5;241;43m.\u001B[39;49m\u001B[43membed\u001B[49m\u001B[43m(\u001B[49m\u001B[43mtext\u001B[49m\u001B[43m)\u001B[49m\n\u001B[0;32m      3\u001B[0m \u001B[38;5;28mprint\u001B[39m(\u001B[38;5;124mf\u001B[39m\u001B[38;5;124m\"\u001B[39m\u001B[38;5;124mEmbedding: \u001B[39m\u001B[38;5;132;01m{\u001B[39;00membedding\u001B[38;5;132;01m}\u001B[39;00m\u001B[38;5;124m\"\u001B[39m)\n",
      "Cell \u001B[1;32mIn[13], line 42\u001B[0m, in \u001B[0;36mOpenAIEmbedding.embed\u001B[1;34m(self, text, **kwargs)\u001B[0m\n\u001B[0;32m     40\u001B[0m \u001B[38;5;28;01mwhile\u001B[39;00m retries \u001B[38;5;241m<\u001B[39m \u001B[38;5;28mself\u001B[39m\u001B[38;5;241m.\u001B[39mmax_retries:\n\u001B[0;32m     41\u001B[0m     \u001B[38;5;28;01mtry\u001B[39;00m:\n\u001B[1;32m---> 42\u001B[0m         response \u001B[38;5;241m=\u001B[39m \u001B[43mrequests\u001B[49m\u001B[38;5;241;43m.\u001B[39;49m\u001B[43mpost\u001B[49m\u001B[43m(\u001B[49m\u001B[43murl\u001B[49m\u001B[43m,\u001B[49m\u001B[43m \u001B[49m\u001B[43mjson\u001B[49m\u001B[38;5;241;43m=\u001B[39;49m\u001B[43mpayload\u001B[49m\u001B[43m,\u001B[49m\u001B[43m \u001B[49m\u001B[43mheaders\u001B[49m\u001B[38;5;241;43m=\u001B[39;49m\u001B[43mheaders\u001B[49m\u001B[43m)\u001B[49m\n\u001B[0;32m     43\u001B[0m         response\u001B[38;5;241m.\u001B[39mraise_for_status()  \u001B[38;5;66;03m# Raise an exception for HTTP errors\u001B[39;00m\n\u001B[0;32m     44\u001B[0m         data \u001B[38;5;241m=\u001B[39m response\u001B[38;5;241m.\u001B[39mjson()\n",
      "File \u001B[1;32mD:\\anaconda3\\Lib\\site-packages\\requests\\api.py:115\u001B[0m, in \u001B[0;36mpost\u001B[1;34m(url, data, json, **kwargs)\u001B[0m\n\u001B[0;32m    103\u001B[0m \u001B[38;5;28;01mdef\u001B[39;00m \u001B[38;5;21mpost\u001B[39m(url, data\u001B[38;5;241m=\u001B[39m\u001B[38;5;28;01mNone\u001B[39;00m, json\u001B[38;5;241m=\u001B[39m\u001B[38;5;28;01mNone\u001B[39;00m, \u001B[38;5;241m*\u001B[39m\u001B[38;5;241m*\u001B[39mkwargs):\n\u001B[0;32m    104\u001B[0m \u001B[38;5;250m    \u001B[39m\u001B[38;5;124mr\u001B[39m\u001B[38;5;124;03m\"\"\"Sends a POST request.\u001B[39;00m\n\u001B[0;32m    105\u001B[0m \n\u001B[0;32m    106\u001B[0m \u001B[38;5;124;03m    :param url: URL for the new :class:`Request` object.\u001B[39;00m\n\u001B[1;32m   (...)\u001B[0m\n\u001B[0;32m    112\u001B[0m \u001B[38;5;124;03m    :rtype: requests.Response\u001B[39;00m\n\u001B[0;32m    113\u001B[0m \u001B[38;5;124;03m    \"\"\"\u001B[39;00m\n\u001B[1;32m--> 115\u001B[0m     \u001B[38;5;28;01mreturn\u001B[39;00m \u001B[43mrequest\u001B[49m\u001B[43m(\u001B[49m\u001B[38;5;124;43m\"\u001B[39;49m\u001B[38;5;124;43mpost\u001B[39;49m\u001B[38;5;124;43m\"\u001B[39;49m\u001B[43m,\u001B[49m\u001B[43m \u001B[49m\u001B[43murl\u001B[49m\u001B[43m,\u001B[49m\u001B[43m \u001B[49m\u001B[43mdata\u001B[49m\u001B[38;5;241;43m=\u001B[39;49m\u001B[43mdata\u001B[49m\u001B[43m,\u001B[49m\u001B[43m \u001B[49m\u001B[43mjson\u001B[49m\u001B[38;5;241;43m=\u001B[39;49m\u001B[43mjson\u001B[49m\u001B[43m,\u001B[49m\u001B[43m \u001B[49m\u001B[38;5;241;43m*\u001B[39;49m\u001B[38;5;241;43m*\u001B[39;49m\u001B[43mkwargs\u001B[49m\u001B[43m)\u001B[49m\n",
      "File \u001B[1;32mD:\\anaconda3\\Lib\\site-packages\\requests\\api.py:59\u001B[0m, in \u001B[0;36mrequest\u001B[1;34m(method, url, **kwargs)\u001B[0m\n\u001B[0;32m     55\u001B[0m \u001B[38;5;66;03m# By using the 'with' statement we are sure the session is closed, thus we\u001B[39;00m\n\u001B[0;32m     56\u001B[0m \u001B[38;5;66;03m# avoid leaving sockets open which can trigger a ResourceWarning in some\u001B[39;00m\n\u001B[0;32m     57\u001B[0m \u001B[38;5;66;03m# cases, and look like a memory leak in others.\u001B[39;00m\n\u001B[0;32m     58\u001B[0m \u001B[38;5;28;01mwith\u001B[39;00m sessions\u001B[38;5;241m.\u001B[39mSession() \u001B[38;5;28;01mas\u001B[39;00m session:\n\u001B[1;32m---> 59\u001B[0m     \u001B[38;5;28;01mreturn\u001B[39;00m \u001B[43msession\u001B[49m\u001B[38;5;241;43m.\u001B[39;49m\u001B[43mrequest\u001B[49m\u001B[43m(\u001B[49m\u001B[43mmethod\u001B[49m\u001B[38;5;241;43m=\u001B[39;49m\u001B[43mmethod\u001B[49m\u001B[43m,\u001B[49m\u001B[43m \u001B[49m\u001B[43murl\u001B[49m\u001B[38;5;241;43m=\u001B[39;49m\u001B[43murl\u001B[49m\u001B[43m,\u001B[49m\u001B[43m \u001B[49m\u001B[38;5;241;43m*\u001B[39;49m\u001B[38;5;241;43m*\u001B[39;49m\u001B[43mkwargs\u001B[49m\u001B[43m)\u001B[49m\n",
      "File \u001B[1;32mD:\\anaconda3\\Lib\\site-packages\\requests\\sessions.py:589\u001B[0m, in \u001B[0;36mSession.request\u001B[1;34m(self, method, url, params, data, headers, cookies, files, auth, timeout, allow_redirects, proxies, hooks, stream, verify, cert, json)\u001B[0m\n\u001B[0;32m    584\u001B[0m send_kwargs \u001B[38;5;241m=\u001B[39m {\n\u001B[0;32m    585\u001B[0m     \u001B[38;5;124m\"\u001B[39m\u001B[38;5;124mtimeout\u001B[39m\u001B[38;5;124m\"\u001B[39m: timeout,\n\u001B[0;32m    586\u001B[0m     \u001B[38;5;124m\"\u001B[39m\u001B[38;5;124mallow_redirects\u001B[39m\u001B[38;5;124m\"\u001B[39m: allow_redirects,\n\u001B[0;32m    587\u001B[0m }\n\u001B[0;32m    588\u001B[0m send_kwargs\u001B[38;5;241m.\u001B[39mupdate(settings)\n\u001B[1;32m--> 589\u001B[0m resp \u001B[38;5;241m=\u001B[39m \u001B[38;5;28;43mself\u001B[39;49m\u001B[38;5;241;43m.\u001B[39;49m\u001B[43msend\u001B[49m\u001B[43m(\u001B[49m\u001B[43mprep\u001B[49m\u001B[43m,\u001B[49m\u001B[43m \u001B[49m\u001B[38;5;241;43m*\u001B[39;49m\u001B[38;5;241;43m*\u001B[39;49m\u001B[43msend_kwargs\u001B[49m\u001B[43m)\u001B[49m\n\u001B[0;32m    591\u001B[0m \u001B[38;5;28;01mreturn\u001B[39;00m resp\n",
      "File \u001B[1;32mD:\\anaconda3\\Lib\\site-packages\\requests\\sessions.py:703\u001B[0m, in \u001B[0;36mSession.send\u001B[1;34m(self, request, **kwargs)\u001B[0m\n\u001B[0;32m    700\u001B[0m start \u001B[38;5;241m=\u001B[39m preferred_clock()\n\u001B[0;32m    702\u001B[0m \u001B[38;5;66;03m# Send the request\u001B[39;00m\n\u001B[1;32m--> 703\u001B[0m r \u001B[38;5;241m=\u001B[39m \u001B[43madapter\u001B[49m\u001B[38;5;241;43m.\u001B[39;49m\u001B[43msend\u001B[49m\u001B[43m(\u001B[49m\u001B[43mrequest\u001B[49m\u001B[43m,\u001B[49m\u001B[43m \u001B[49m\u001B[38;5;241;43m*\u001B[39;49m\u001B[38;5;241;43m*\u001B[39;49m\u001B[43mkwargs\u001B[49m\u001B[43m)\u001B[49m\n\u001B[0;32m    705\u001B[0m \u001B[38;5;66;03m# Total elapsed time of the request (approximately)\u001B[39;00m\n\u001B[0;32m    706\u001B[0m elapsed \u001B[38;5;241m=\u001B[39m preferred_clock() \u001B[38;5;241m-\u001B[39m start\n",
      "File \u001B[1;32mD:\\anaconda3\\Lib\\site-packages\\requests\\adapters.py:667\u001B[0m, in \u001B[0;36mHTTPAdapter.send\u001B[1;34m(self, request, stream, timeout, verify, cert, proxies)\u001B[0m\n\u001B[0;32m    664\u001B[0m     timeout \u001B[38;5;241m=\u001B[39m TimeoutSauce(connect\u001B[38;5;241m=\u001B[39mtimeout, read\u001B[38;5;241m=\u001B[39mtimeout)\n\u001B[0;32m    666\u001B[0m \u001B[38;5;28;01mtry\u001B[39;00m:\n\u001B[1;32m--> 667\u001B[0m     resp \u001B[38;5;241m=\u001B[39m \u001B[43mconn\u001B[49m\u001B[38;5;241;43m.\u001B[39;49m\u001B[43murlopen\u001B[49m\u001B[43m(\u001B[49m\n\u001B[0;32m    668\u001B[0m \u001B[43m        \u001B[49m\u001B[43mmethod\u001B[49m\u001B[38;5;241;43m=\u001B[39;49m\u001B[43mrequest\u001B[49m\u001B[38;5;241;43m.\u001B[39;49m\u001B[43mmethod\u001B[49m\u001B[43m,\u001B[49m\n\u001B[0;32m    669\u001B[0m \u001B[43m        \u001B[49m\u001B[43murl\u001B[49m\u001B[38;5;241;43m=\u001B[39;49m\u001B[43murl\u001B[49m\u001B[43m,\u001B[49m\n\u001B[0;32m    670\u001B[0m \u001B[43m        \u001B[49m\u001B[43mbody\u001B[49m\u001B[38;5;241;43m=\u001B[39;49m\u001B[43mrequest\u001B[49m\u001B[38;5;241;43m.\u001B[39;49m\u001B[43mbody\u001B[49m\u001B[43m,\u001B[49m\n\u001B[0;32m    671\u001B[0m \u001B[43m        \u001B[49m\u001B[43mheaders\u001B[49m\u001B[38;5;241;43m=\u001B[39;49m\u001B[43mrequest\u001B[49m\u001B[38;5;241;43m.\u001B[39;49m\u001B[43mheaders\u001B[49m\u001B[43m,\u001B[49m\n\u001B[0;32m    672\u001B[0m \u001B[43m        \u001B[49m\u001B[43mredirect\u001B[49m\u001B[38;5;241;43m=\u001B[39;49m\u001B[38;5;28;43;01mFalse\u001B[39;49;00m\u001B[43m,\u001B[49m\n\u001B[0;32m    673\u001B[0m \u001B[43m        \u001B[49m\u001B[43massert_same_host\u001B[49m\u001B[38;5;241;43m=\u001B[39;49m\u001B[38;5;28;43;01mFalse\u001B[39;49;00m\u001B[43m,\u001B[49m\n\u001B[0;32m    674\u001B[0m \u001B[43m        \u001B[49m\u001B[43mpreload_content\u001B[49m\u001B[38;5;241;43m=\u001B[39;49m\u001B[38;5;28;43;01mFalse\u001B[39;49;00m\u001B[43m,\u001B[49m\n\u001B[0;32m    675\u001B[0m \u001B[43m        \u001B[49m\u001B[43mdecode_content\u001B[49m\u001B[38;5;241;43m=\u001B[39;49m\u001B[38;5;28;43;01mFalse\u001B[39;49;00m\u001B[43m,\u001B[49m\n\u001B[0;32m    676\u001B[0m \u001B[43m        \u001B[49m\u001B[43mretries\u001B[49m\u001B[38;5;241;43m=\u001B[39;49m\u001B[38;5;28;43mself\u001B[39;49m\u001B[38;5;241;43m.\u001B[39;49m\u001B[43mmax_retries\u001B[49m\u001B[43m,\u001B[49m\n\u001B[0;32m    677\u001B[0m \u001B[43m        \u001B[49m\u001B[43mtimeout\u001B[49m\u001B[38;5;241;43m=\u001B[39;49m\u001B[43mtimeout\u001B[49m\u001B[43m,\u001B[49m\n\u001B[0;32m    678\u001B[0m \u001B[43m        \u001B[49m\u001B[43mchunked\u001B[49m\u001B[38;5;241;43m=\u001B[39;49m\u001B[43mchunked\u001B[49m\u001B[43m,\u001B[49m\n\u001B[0;32m    679\u001B[0m \u001B[43m    \u001B[49m\u001B[43m)\u001B[49m\n\u001B[0;32m    681\u001B[0m \u001B[38;5;28;01mexcept\u001B[39;00m (ProtocolError, \u001B[38;5;167;01mOSError\u001B[39;00m) \u001B[38;5;28;01mas\u001B[39;00m err:\n\u001B[0;32m    682\u001B[0m     \u001B[38;5;28;01mraise\u001B[39;00m \u001B[38;5;167;01mConnectionError\u001B[39;00m(err, request\u001B[38;5;241m=\u001B[39mrequest)\n",
      "File \u001B[1;32mD:\\anaconda3\\Lib\\site-packages\\urllib3\\connectionpool.py:789\u001B[0m, in \u001B[0;36mHTTPConnectionPool.urlopen\u001B[1;34m(self, method, url, body, headers, retries, redirect, assert_same_host, timeout, pool_timeout, release_conn, chunked, body_pos, preload_content, decode_content, **response_kw)\u001B[0m\n\u001B[0;32m    786\u001B[0m response_conn \u001B[38;5;241m=\u001B[39m conn \u001B[38;5;28;01mif\u001B[39;00m \u001B[38;5;129;01mnot\u001B[39;00m release_conn \u001B[38;5;28;01melse\u001B[39;00m \u001B[38;5;28;01mNone\u001B[39;00m\n\u001B[0;32m    788\u001B[0m \u001B[38;5;66;03m# Make the request on the HTTPConnection object\u001B[39;00m\n\u001B[1;32m--> 789\u001B[0m response \u001B[38;5;241m=\u001B[39m \u001B[38;5;28;43mself\u001B[39;49m\u001B[38;5;241;43m.\u001B[39;49m\u001B[43m_make_request\u001B[49m\u001B[43m(\u001B[49m\n\u001B[0;32m    790\u001B[0m \u001B[43m    \u001B[49m\u001B[43mconn\u001B[49m\u001B[43m,\u001B[49m\n\u001B[0;32m    791\u001B[0m \u001B[43m    \u001B[49m\u001B[43mmethod\u001B[49m\u001B[43m,\u001B[49m\n\u001B[0;32m    792\u001B[0m \u001B[43m    \u001B[49m\u001B[43murl\u001B[49m\u001B[43m,\u001B[49m\n\u001B[0;32m    793\u001B[0m \u001B[43m    \u001B[49m\u001B[43mtimeout\u001B[49m\u001B[38;5;241;43m=\u001B[39;49m\u001B[43mtimeout_obj\u001B[49m\u001B[43m,\u001B[49m\n\u001B[0;32m    794\u001B[0m \u001B[43m    \u001B[49m\u001B[43mbody\u001B[49m\u001B[38;5;241;43m=\u001B[39;49m\u001B[43mbody\u001B[49m\u001B[43m,\u001B[49m\n\u001B[0;32m    795\u001B[0m \u001B[43m    \u001B[49m\u001B[43mheaders\u001B[49m\u001B[38;5;241;43m=\u001B[39;49m\u001B[43mheaders\u001B[49m\u001B[43m,\u001B[49m\n\u001B[0;32m    796\u001B[0m \u001B[43m    \u001B[49m\u001B[43mchunked\u001B[49m\u001B[38;5;241;43m=\u001B[39;49m\u001B[43mchunked\u001B[49m\u001B[43m,\u001B[49m\n\u001B[0;32m    797\u001B[0m \u001B[43m    \u001B[49m\u001B[43mretries\u001B[49m\u001B[38;5;241;43m=\u001B[39;49m\u001B[43mretries\u001B[49m\u001B[43m,\u001B[49m\n\u001B[0;32m    798\u001B[0m \u001B[43m    \u001B[49m\u001B[43mresponse_conn\u001B[49m\u001B[38;5;241;43m=\u001B[39;49m\u001B[43mresponse_conn\u001B[49m\u001B[43m,\u001B[49m\n\u001B[0;32m    799\u001B[0m \u001B[43m    \u001B[49m\u001B[43mpreload_content\u001B[49m\u001B[38;5;241;43m=\u001B[39;49m\u001B[43mpreload_content\u001B[49m\u001B[43m,\u001B[49m\n\u001B[0;32m    800\u001B[0m \u001B[43m    \u001B[49m\u001B[43mdecode_content\u001B[49m\u001B[38;5;241;43m=\u001B[39;49m\u001B[43mdecode_content\u001B[49m\u001B[43m,\u001B[49m\n\u001B[0;32m    801\u001B[0m \u001B[43m    \u001B[49m\u001B[38;5;241;43m*\u001B[39;49m\u001B[38;5;241;43m*\u001B[39;49m\u001B[43mresponse_kw\u001B[49m\u001B[43m,\u001B[49m\n\u001B[0;32m    802\u001B[0m \u001B[43m\u001B[49m\u001B[43m)\u001B[49m\n\u001B[0;32m    804\u001B[0m \u001B[38;5;66;03m# Everything went great!\u001B[39;00m\n\u001B[0;32m    805\u001B[0m clean_exit \u001B[38;5;241m=\u001B[39m \u001B[38;5;28;01mTrue\u001B[39;00m\n",
      "File \u001B[1;32mD:\\anaconda3\\Lib\\site-packages\\urllib3\\connectionpool.py:495\u001B[0m, in \u001B[0;36mHTTPConnectionPool._make_request\u001B[1;34m(self, conn, method, url, body, headers, retries, timeout, chunked, response_conn, preload_content, decode_content, enforce_content_length)\u001B[0m\n\u001B[0;32m    492\u001B[0m \u001B[38;5;66;03m# conn.request() calls http.client.*.request, not the method in\u001B[39;00m\n\u001B[0;32m    493\u001B[0m \u001B[38;5;66;03m# urllib3.request. It also calls makefile (recv) on the socket.\u001B[39;00m\n\u001B[0;32m    494\u001B[0m \u001B[38;5;28;01mtry\u001B[39;00m:\n\u001B[1;32m--> 495\u001B[0m     \u001B[43mconn\u001B[49m\u001B[38;5;241;43m.\u001B[39;49m\u001B[43mrequest\u001B[49m\u001B[43m(\u001B[49m\n\u001B[0;32m    496\u001B[0m \u001B[43m        \u001B[49m\u001B[43mmethod\u001B[49m\u001B[43m,\u001B[49m\n\u001B[0;32m    497\u001B[0m \u001B[43m        \u001B[49m\u001B[43murl\u001B[49m\u001B[43m,\u001B[49m\n\u001B[0;32m    498\u001B[0m \u001B[43m        \u001B[49m\u001B[43mbody\u001B[49m\u001B[38;5;241;43m=\u001B[39;49m\u001B[43mbody\u001B[49m\u001B[43m,\u001B[49m\n\u001B[0;32m    499\u001B[0m \u001B[43m        \u001B[49m\u001B[43mheaders\u001B[49m\u001B[38;5;241;43m=\u001B[39;49m\u001B[43mheaders\u001B[49m\u001B[43m,\u001B[49m\n\u001B[0;32m    500\u001B[0m \u001B[43m        \u001B[49m\u001B[43mchunked\u001B[49m\u001B[38;5;241;43m=\u001B[39;49m\u001B[43mchunked\u001B[49m\u001B[43m,\u001B[49m\n\u001B[0;32m    501\u001B[0m \u001B[43m        \u001B[49m\u001B[43mpreload_content\u001B[49m\u001B[38;5;241;43m=\u001B[39;49m\u001B[43mpreload_content\u001B[49m\u001B[43m,\u001B[49m\n\u001B[0;32m    502\u001B[0m \u001B[43m        \u001B[49m\u001B[43mdecode_content\u001B[49m\u001B[38;5;241;43m=\u001B[39;49m\u001B[43mdecode_content\u001B[49m\u001B[43m,\u001B[49m\n\u001B[0;32m    503\u001B[0m \u001B[43m        \u001B[49m\u001B[43menforce_content_length\u001B[49m\u001B[38;5;241;43m=\u001B[39;49m\u001B[43menforce_content_length\u001B[49m\u001B[43m,\u001B[49m\n\u001B[0;32m    504\u001B[0m \u001B[43m    \u001B[49m\u001B[43m)\u001B[49m\n\u001B[0;32m    506\u001B[0m \u001B[38;5;66;03m# We are swallowing BrokenPipeError (errno.EPIPE) since the server is\u001B[39;00m\n\u001B[0;32m    507\u001B[0m \u001B[38;5;66;03m# legitimately able to close the connection after sending a valid response.\u001B[39;00m\n\u001B[0;32m    508\u001B[0m \u001B[38;5;66;03m# With this behaviour, the received response is still readable.\u001B[39;00m\n\u001B[0;32m    509\u001B[0m \u001B[38;5;28;01mexcept\u001B[39;00m \u001B[38;5;167;01mBrokenPipeError\u001B[39;00m:\n",
      "File \u001B[1;32mD:\\anaconda3\\Lib\\site-packages\\urllib3\\connection.py:441\u001B[0m, in \u001B[0;36mHTTPConnection.request\u001B[1;34m(self, method, url, body, headers, chunked, preload_content, decode_content, enforce_content_length)\u001B[0m\n\u001B[0;32m    439\u001B[0m \u001B[38;5;28;01mfor\u001B[39;00m header, value \u001B[38;5;129;01min\u001B[39;00m headers\u001B[38;5;241m.\u001B[39mitems():\n\u001B[0;32m    440\u001B[0m     \u001B[38;5;28mself\u001B[39m\u001B[38;5;241m.\u001B[39mputheader(header, value)\n\u001B[1;32m--> 441\u001B[0m \u001B[38;5;28;43mself\u001B[39;49m\u001B[38;5;241;43m.\u001B[39;49m\u001B[43mendheaders\u001B[49m\u001B[43m(\u001B[49m\u001B[43m)\u001B[49m\n\u001B[0;32m    443\u001B[0m \u001B[38;5;66;03m# If we're given a body we start sending that in chunks.\u001B[39;00m\n\u001B[0;32m    444\u001B[0m \u001B[38;5;28;01mif\u001B[39;00m chunks \u001B[38;5;129;01mis\u001B[39;00m \u001B[38;5;129;01mnot\u001B[39;00m \u001B[38;5;28;01mNone\u001B[39;00m:\n",
      "File \u001B[1;32mD:\\anaconda3\\Lib\\http\\client.py:1331\u001B[0m, in \u001B[0;36mHTTPConnection.endheaders\u001B[1;34m(self, message_body, encode_chunked)\u001B[0m\n\u001B[0;32m   1329\u001B[0m \u001B[38;5;28;01melse\u001B[39;00m:\n\u001B[0;32m   1330\u001B[0m     \u001B[38;5;28;01mraise\u001B[39;00m CannotSendHeader()\n\u001B[1;32m-> 1331\u001B[0m \u001B[38;5;28;43mself\u001B[39;49m\u001B[38;5;241;43m.\u001B[39;49m\u001B[43m_send_output\u001B[49m\u001B[43m(\u001B[49m\u001B[43mmessage_body\u001B[49m\u001B[43m,\u001B[49m\u001B[43m \u001B[49m\u001B[43mencode_chunked\u001B[49m\u001B[38;5;241;43m=\u001B[39;49m\u001B[43mencode_chunked\u001B[49m\u001B[43m)\u001B[49m\n",
      "File \u001B[1;32mD:\\anaconda3\\Lib\\http\\client.py:1091\u001B[0m, in \u001B[0;36mHTTPConnection._send_output\u001B[1;34m(self, message_body, encode_chunked)\u001B[0m\n\u001B[0;32m   1089\u001B[0m msg \u001B[38;5;241m=\u001B[39m \u001B[38;5;124mb\u001B[39m\u001B[38;5;124m\"\u001B[39m\u001B[38;5;130;01m\\r\u001B[39;00m\u001B[38;5;130;01m\\n\u001B[39;00m\u001B[38;5;124m\"\u001B[39m\u001B[38;5;241m.\u001B[39mjoin(\u001B[38;5;28mself\u001B[39m\u001B[38;5;241m.\u001B[39m_buffer)\n\u001B[0;32m   1090\u001B[0m \u001B[38;5;28;01mdel\u001B[39;00m \u001B[38;5;28mself\u001B[39m\u001B[38;5;241m.\u001B[39m_buffer[:]\n\u001B[1;32m-> 1091\u001B[0m \u001B[38;5;28;43mself\u001B[39;49m\u001B[38;5;241;43m.\u001B[39;49m\u001B[43msend\u001B[49m\u001B[43m(\u001B[49m\u001B[43mmsg\u001B[49m\u001B[43m)\u001B[49m\n\u001B[0;32m   1093\u001B[0m \u001B[38;5;28;01mif\u001B[39;00m message_body \u001B[38;5;129;01mis\u001B[39;00m \u001B[38;5;129;01mnot\u001B[39;00m \u001B[38;5;28;01mNone\u001B[39;00m:\n\u001B[0;32m   1094\u001B[0m \n\u001B[0;32m   1095\u001B[0m     \u001B[38;5;66;03m# create a consistent interface to message_body\u001B[39;00m\n\u001B[0;32m   1096\u001B[0m     \u001B[38;5;28;01mif\u001B[39;00m \u001B[38;5;28mhasattr\u001B[39m(message_body, \u001B[38;5;124m'\u001B[39m\u001B[38;5;124mread\u001B[39m\u001B[38;5;124m'\u001B[39m):\n\u001B[0;32m   1097\u001B[0m         \u001B[38;5;66;03m# Let file-like take precedence over byte-like.  This\u001B[39;00m\n\u001B[0;32m   1098\u001B[0m         \u001B[38;5;66;03m# is needed to allow the current position of mmap'ed\u001B[39;00m\n\u001B[0;32m   1099\u001B[0m         \u001B[38;5;66;03m# files to be taken into account.\u001B[39;00m\n",
      "File \u001B[1;32mD:\\anaconda3\\Lib\\http\\client.py:1035\u001B[0m, in \u001B[0;36mHTTPConnection.send\u001B[1;34m(self, data)\u001B[0m\n\u001B[0;32m   1033\u001B[0m \u001B[38;5;28;01mif\u001B[39;00m \u001B[38;5;28mself\u001B[39m\u001B[38;5;241m.\u001B[39msock \u001B[38;5;129;01mis\u001B[39;00m \u001B[38;5;28;01mNone\u001B[39;00m:\n\u001B[0;32m   1034\u001B[0m     \u001B[38;5;28;01mif\u001B[39;00m \u001B[38;5;28mself\u001B[39m\u001B[38;5;241m.\u001B[39mauto_open:\n\u001B[1;32m-> 1035\u001B[0m         \u001B[38;5;28;43mself\u001B[39;49m\u001B[38;5;241;43m.\u001B[39;49m\u001B[43mconnect\u001B[49m\u001B[43m(\u001B[49m\u001B[43m)\u001B[49m\n\u001B[0;32m   1036\u001B[0m     \u001B[38;5;28;01melse\u001B[39;00m:\n\u001B[0;32m   1037\u001B[0m         \u001B[38;5;28;01mraise\u001B[39;00m NotConnected()\n",
      "File \u001B[1;32mD:\\anaconda3\\Lib\\site-packages\\urllib3\\connection.py:279\u001B[0m, in \u001B[0;36mHTTPConnection.connect\u001B[1;34m(self)\u001B[0m\n\u001B[0;32m    278\u001B[0m \u001B[38;5;28;01mdef\u001B[39;00m \u001B[38;5;21mconnect\u001B[39m(\u001B[38;5;28mself\u001B[39m) \u001B[38;5;241m-\u001B[39m\u001B[38;5;241m>\u001B[39m \u001B[38;5;28;01mNone\u001B[39;00m:\n\u001B[1;32m--> 279\u001B[0m     \u001B[38;5;28mself\u001B[39m\u001B[38;5;241m.\u001B[39msock \u001B[38;5;241m=\u001B[39m \u001B[38;5;28;43mself\u001B[39;49m\u001B[38;5;241;43m.\u001B[39;49m\u001B[43m_new_conn\u001B[49m\u001B[43m(\u001B[49m\u001B[43m)\u001B[49m\n\u001B[0;32m    280\u001B[0m     \u001B[38;5;28;01mif\u001B[39;00m \u001B[38;5;28mself\u001B[39m\u001B[38;5;241m.\u001B[39m_tunnel_host:\n\u001B[0;32m    281\u001B[0m         \u001B[38;5;66;03m# If we're tunneling it means we're connected to our proxy.\u001B[39;00m\n\u001B[0;32m    282\u001B[0m         \u001B[38;5;28mself\u001B[39m\u001B[38;5;241m.\u001B[39m_has_connected_to_proxy \u001B[38;5;241m=\u001B[39m \u001B[38;5;28;01mTrue\u001B[39;00m\n",
      "File \u001B[1;32mD:\\anaconda3\\Lib\\site-packages\\urllib3\\connection.py:199\u001B[0m, in \u001B[0;36mHTTPConnection._new_conn\u001B[1;34m(self)\u001B[0m\n\u001B[0;32m    194\u001B[0m \u001B[38;5;250m\u001B[39m\u001B[38;5;124;03m\"\"\"Establish a socket connection and set nodelay settings on it.\u001B[39;00m\n\u001B[0;32m    195\u001B[0m \n\u001B[0;32m    196\u001B[0m \u001B[38;5;124;03m:return: New socket connection.\u001B[39;00m\n\u001B[0;32m    197\u001B[0m \u001B[38;5;124;03m\"\"\"\u001B[39;00m\n\u001B[0;32m    198\u001B[0m \u001B[38;5;28;01mtry\u001B[39;00m:\n\u001B[1;32m--> 199\u001B[0m     sock \u001B[38;5;241m=\u001B[39m \u001B[43mconnection\u001B[49m\u001B[38;5;241;43m.\u001B[39;49m\u001B[43mcreate_connection\u001B[49m\u001B[43m(\u001B[49m\n\u001B[0;32m    200\u001B[0m \u001B[43m        \u001B[49m\u001B[43m(\u001B[49m\u001B[38;5;28;43mself\u001B[39;49m\u001B[38;5;241;43m.\u001B[39;49m\u001B[43m_dns_host\u001B[49m\u001B[43m,\u001B[49m\u001B[43m \u001B[49m\u001B[38;5;28;43mself\u001B[39;49m\u001B[38;5;241;43m.\u001B[39;49m\u001B[43mport\u001B[49m\u001B[43m)\u001B[49m\u001B[43m,\u001B[49m\n\u001B[0;32m    201\u001B[0m \u001B[43m        \u001B[49m\u001B[38;5;28;43mself\u001B[39;49m\u001B[38;5;241;43m.\u001B[39;49m\u001B[43mtimeout\u001B[49m\u001B[43m,\u001B[49m\n\u001B[0;32m    202\u001B[0m \u001B[43m        \u001B[49m\u001B[43msource_address\u001B[49m\u001B[38;5;241;43m=\u001B[39;49m\u001B[38;5;28;43mself\u001B[39;49m\u001B[38;5;241;43m.\u001B[39;49m\u001B[43msource_address\u001B[49m\u001B[43m,\u001B[49m\n\u001B[0;32m    203\u001B[0m \u001B[43m        \u001B[49m\u001B[43msocket_options\u001B[49m\u001B[38;5;241;43m=\u001B[39;49m\u001B[38;5;28;43mself\u001B[39;49m\u001B[38;5;241;43m.\u001B[39;49m\u001B[43msocket_options\u001B[49m\u001B[43m,\u001B[49m\n\u001B[0;32m    204\u001B[0m \u001B[43m    \u001B[49m\u001B[43m)\u001B[49m\n\u001B[0;32m    205\u001B[0m \u001B[38;5;28;01mexcept\u001B[39;00m socket\u001B[38;5;241m.\u001B[39mgaierror \u001B[38;5;28;01mas\u001B[39;00m e:\n\u001B[0;32m    206\u001B[0m     \u001B[38;5;28;01mraise\u001B[39;00m NameResolutionError(\u001B[38;5;28mself\u001B[39m\u001B[38;5;241m.\u001B[39mhost, \u001B[38;5;28mself\u001B[39m, e) \u001B[38;5;28;01mfrom\u001B[39;00m \u001B[38;5;21;01me\u001B[39;00m\n",
      "File \u001B[1;32mD:\\anaconda3\\Lib\\site-packages\\urllib3\\util\\connection.py:81\u001B[0m, in \u001B[0;36mcreate_connection\u001B[1;34m(address, timeout, source_address, socket_options)\u001B[0m\n\u001B[0;32m     79\u001B[0m         err \u001B[38;5;241m=\u001B[39m _\n\u001B[0;32m     80\u001B[0m         \u001B[38;5;28;01mif\u001B[39;00m sock \u001B[38;5;129;01mis\u001B[39;00m \u001B[38;5;129;01mnot\u001B[39;00m \u001B[38;5;28;01mNone\u001B[39;00m:\n\u001B[1;32m---> 81\u001B[0m             \u001B[43msock\u001B[49m\u001B[38;5;241;43m.\u001B[39;49m\u001B[43mclose\u001B[49m\u001B[43m(\u001B[49m\u001B[43m)\u001B[49m\n\u001B[0;32m     83\u001B[0m \u001B[38;5;28;01mif\u001B[39;00m err \u001B[38;5;129;01mis\u001B[39;00m \u001B[38;5;129;01mnot\u001B[39;00m \u001B[38;5;28;01mNone\u001B[39;00m:\n\u001B[0;32m     84\u001B[0m     \u001B[38;5;28;01mtry\u001B[39;00m:\n",
      "File \u001B[1;32mD:\\anaconda3\\Lib\\socket.py:501\u001B[0m, in \u001B[0;36msocket.close\u001B[1;34m(self)\u001B[0m\n\u001B[0;32m    497\u001B[0m \u001B[38;5;28;01mdef\u001B[39;00m \u001B[38;5;21m_real_close\u001B[39m(\u001B[38;5;28mself\u001B[39m, _ss\u001B[38;5;241m=\u001B[39m_socket\u001B[38;5;241m.\u001B[39msocket):\n\u001B[0;32m    498\u001B[0m     \u001B[38;5;66;03m# This function should not reference any globals. See issue #808164.\u001B[39;00m\n\u001B[0;32m    499\u001B[0m     _ss\u001B[38;5;241m.\u001B[39mclose(\u001B[38;5;28mself\u001B[39m)\n\u001B[1;32m--> 501\u001B[0m \u001B[38;5;28;01mdef\u001B[39;00m \u001B[38;5;21mclose\u001B[39m(\u001B[38;5;28mself\u001B[39m):\n\u001B[0;32m    502\u001B[0m     \u001B[38;5;66;03m# This function should not reference any globals. See issue #808164.\u001B[39;00m\n\u001B[0;32m    503\u001B[0m     \u001B[38;5;28mself\u001B[39m\u001B[38;5;241m.\u001B[39m_closed \u001B[38;5;241m=\u001B[39m \u001B[38;5;28;01mTrue\u001B[39;00m\n\u001B[0;32m    504\u001B[0m     \u001B[38;5;28;01mif\u001B[39;00m \u001B[38;5;28mself\u001B[39m\u001B[38;5;241m.\u001B[39m_io_refs \u001B[38;5;241m<\u001B[39m\u001B[38;5;241m=\u001B[39m \u001B[38;5;241m0\u001B[39m:\n",
      "\u001B[1;31mKeyboardInterrupt\u001B[0m: "
     ]
    }
   ],
   "execution_count": 15
  },
  {
   "metadata": {
    "ExecuteTime": {
     "end_time": "2025-03-31T02:27:04.076140600Z",
     "start_time": "2025-03-30T10:30:58.465011Z"
    }
   },
   "cell_type": "code",
   "source": [
    "description_embedding_store = LanceDBVectorStore(\n",
    "    collection_name=\"default-entity-description\",\n",
    ")\n",
    "description_embedding_store.connect(db_uri=LANCEDB_URI)"
   ],
   "id": "2f105156e1331df2",
   "outputs": [],
   "execution_count": 70
  },
  {
   "metadata": {
    "ExecuteTime": {
     "end_time": "2025-03-31T02:27:04.090139300Z",
     "start_time": "2025-03-30T10:30:58.513425Z"
    }
   },
   "cell_type": "code",
   "source": [
    "context_builder = LocalSearchMixedContext(\n",
    "    entities=entities,\n",
    "    entity_text_embeddings=description_embedding_store,\n",
    "    text_embedder=text_embedder,\n",
    "    text_units=text_units,\n",
    "    community_reports=reports,\n",
    "    relationships=relationships,\n",
    "    covariates=None,\n",
    "    token_encoder=token_encoder,\n",
    "    embedding_vectorstore_key=EntityVectorStoreKey.ID,\n",
    ")"
   ],
   "id": "4c35635ef2d01427",
   "outputs": [],
   "execution_count": 71
  },
  {
   "metadata": {},
   "cell_type": "code",
   "outputs": [],
   "execution_count": null,
   "source": "",
   "id": "563b408cfca5f135"
  },
  {
   "metadata": {},
   "cell_type": "markdown",
   "source": [
    "site-packages\\graphrag\\vector_stores\\lancedb.py\n",
    "\n",
    "\n",
    "\n",
    "```py\n",
    "def similarity_search_by_vector(\n",
    "    self, query_embedding: list[float], k: int = 10, **kwargs: Any\n",
    ") -> list[VectorStoreSearchResult]:\n",
    "    \"\"\"Perform a vector-based similarity search.\"\"\"\n",
    "    if self.query_filter:\n",
    "        docs = (\n",
    "            self.document_collection.search(\n",
    "                query=query_embedding, vector_column_name=\"vector\"\n",
    "            )\n",
    "            .where(self.query_filter, prefilter=True)\n",
    "            .limit(k)\n",
    "            .to_list()\n",
    "        )\n",
    "    else:\n",
    "        docs = (\n",
    "            self.document_collection.search(\n",
    "                query=query_embedding, vector_column_name=\"vector\"\n",
    "            )\n",
    "            .limit(k)\n",
    "            .to_list()\n",
    "        )\n",
    "    return [\n",
    "        VectorStoreSearchResult(\n",
    "            document=VectorStoreDocument(\n",
    "                id=doc[\"id\"],\n",
    "                text=doc[\"text\"],\n",
    "                vector=doc[\"vector\"],\n",
    "                attributes=json.loads(doc[\"attributes\"]),\n",
    "            ),\n",
    "            score=1 - abs(float(doc[\"_distance\"])),\n",
    "        )\n",
    "        for doc in docs if abs(float(doc[\"_distance\"]))<0.3 # 修改这里\n",
    "    ]\n",
    "```"
   ],
   "id": "9ac00d4e1197efc2"
  },
  {
   "metadata": {},
   "cell_type": "markdown",
   "source": "## 测试效果",
   "id": "38dfd2a187572bec"
  },
  {
   "metadata": {},
   "cell_type": "markdown",
   "source": "### 存在的实体匹配效果展示",
   "id": "cdb1316ba705f497"
  },
  {
   "metadata": {
    "ExecuteTime": {
     "end_time": "2025-03-31T02:27:04.145833900Z",
     "start_time": "2025-03-30T10:41:56.815598Z"
    }
   },
   "cell_type": "code",
   "source": [
    "# test1\n",
    "text1 = \"赵明诚\"\n",
    "context1 = context_builder.build_context(text1)"
   ],
   "id": "a78a48c1bd8f18b3",
   "outputs": [],
   "execution_count": 94
  },
  {
   "metadata": {
    "ExecuteTime": {
     "end_time": "2025-03-31T02:27:04.163833800Z",
     "start_time": "2025-03-30T10:41:59.703324Z"
    }
   },
   "cell_type": "code",
   "source": [
    "chunks1 = context1.context_chunks\n",
    "records1 = context1.context_records"
   ],
   "id": "620cb2dd4412983b",
   "outputs": [],
   "execution_count": 95
  },
  {
   "metadata": {
    "ExecuteTime": {
     "end_time": "2025-03-31T02:27:04.165834Z",
     "start_time": "2025-03-30T10:42:01.184029Z"
    }
   },
   "cell_type": "code",
   "source": [
    "print(type(records1))\n",
    "print(\"*\"*100)\n",
    "print(records1.keys())\n",
    "print(\"*\"*100)\n",
    "print('reports:')\n",
    "print(records1['reports'])\n",
    "print(\"*\"*100)\n",
    "print('relationships:')\n",
    "print(records1['relationships'])\n",
    "print(\"*\"*100)\n",
    "print('entities:')\n",
    "print(records1['entities'])\n",
    "print(\"*\"*100)\n",
    "print('sources:')\n",
    "print(records1['sources'])"
   ],
   "id": "d9347726a81b36de",
   "outputs": [
    {
     "name": "stdout",
     "output_type": "stream",
     "text": [
      "<class 'dict'>\n",
      "****************************************************************************************************\n",
      "dict_keys(['reports', 'relationships', 'entities', 'sources'])\n",
      "****************************************************************************************************\n",
      "reports:\n",
      "   id          title                                            content\n",
      "0   0     李清照与宋代文化社区  # 李清照与宋代文化社区\\n\\n本报告聚焦于宋代女词人李清照及其作品与生活环境的关系，探讨了...\n",
      "1  30  李清照与宋代文人的文学交融  # 李清照与宋代文人的文学交融\\n\\n本报告围绕宋代杰出女词人李清照及与她有显著文学互动的欧...\n",
      "****************************************************************************************************\n",
      "relationships:\n",
      "     id source target                                        description  \\\n",
      "0   406     明诚    李清照  李清照是中国宋代著名的女词人，她的才华和贡献在中国文学史上占有重要地位。她的丈夫名为明诚，也...   \n",
      "1   166    李清照     明诚  李清照是中国宋代著名的女词人，与丈夫明诚的情感深厚，两人不仅情感生活融洽，而且在学术工作上也...   \n",
      "2   384     明诚     易安                               李清照（易安）与赵明诚（明诚）的夫妻关系   \n",
      "3   933     易安     明诚    李清照创作词作后，赵明诚感到赞叹，并试图创作更佳作品\\n易安李清照作词，明诚赵明诚对此作词赞叹   \n",
      "4  1099     益都     明诚                                      明诚与李清照在益都共同生活   \n",
      "5   167     南渡     明诚                           明诚可能在南渡前离开，李清照因此在作品中表达离情   \n",
      "6   938     明诚    醉花阴                        被李清照所作的《醉花阴》感动，遂连续数日创作词作以应对   \n",
      "7   467     建康     明诚  建康和明诚在历史上分别是地域和人物的代表。明诚，在被旨知湖州后，独自前往建康。而后，遗憾的是...   \n",
      "8   924    醉花阴     明诚                                   明诚对李清照的《醉花阴》赞赏有加   \n",
      "9   350     明诚     江宁                                         明诚在江宁的守御结束   \n",
      "\n",
      "  links  in_context  \n",
      "0     1        True  \n",
      "1     1        True  \n",
      "2     1        True  \n",
      "3     1        True  \n",
      "4     1        True  \n",
      "5     1        True  \n",
      "6     1        True  \n",
      "7     1        True  \n",
      "8     1        True  \n",
      "9     1        True  \n",
      "****************************************************************************************************\n",
      "entities:\n",
      "     id entity                                        description  in_context\n",
      "0   148     明诚                                                           True\n",
      "1   486   鸿胪少卿                                          赵明诚被任命的职位        True\n",
      "2   485   夫赵明诚                                        月 夫赵明诚除鸿胪少卿        True\n",
      "3    51     词人                                                           True\n",
      "4   618    回摇斗                                                           True\n",
      "5   766    云韶集                                                           True\n",
      "6   650    打马赋                                                           True\n",
      "7   197    酸梅酒                                                           True\n",
      "8   511   建中辛巳                             宋代年号及时期，表明李清照与赵明诚结婚的时间        True\n",
      "9    76     宋代                                                           True\n",
      "10  487   鸿胪直舍                                       赵明诚在该地位写作的地方        True\n",
      "11  262    陶靖节  陶靖节，即陶渊明，是一位享誉古代中国的文学家，以其归隐田园的理想生活和对个人志趣的坚持而闻名...        True\n",
      "12  112   《饮酒》                                    陶渊明所作诗篇，描述采菊的场景        True\n",
      "13  750     新愁                                 李清照因赵明诚出游而感到的深愁与忧思        True\n",
      "****************************************************************************************************\n",
      "sources:\n",
      "   id                                               text\n",
      "0  14  “望断”二字写尽盼归不能的愁苦，此时感情已积聚至最高峰，全词达到高潮。\\n\\n念奴娇 春情（...\n",
      "1  49  月　夫赵明诚除鸿胪少卿。\\n1106年2月15日　夫赵明诚在鸿胪直舍跋欧阳修集古录跋尾。\\n...\n",
      "2   6  以接下来有“仿佛”三句。“仿佛”以下这三句 ，写词人在梦中见到天帝。“梦魂”二字，是全词的关...\n",
      "3  55  回摇斗：谓春天即将来临。\\n⑷ 高闳（hóng）：高门，这里可作“贵府”解。\\n⑸ 棠棣：一...\n"
     ]
    }
   ],
   "execution_count": 96
  },
  {
   "metadata": {
    "ExecuteTime": {
     "end_time": "2025-03-31T02:27:04.181677500Z",
     "start_time": "2025-03-30T10:38:39.914469Z"
    }
   },
   "cell_type": "code",
   "source": "type(records1['reports']),type(records1['relationships']),type(records1['entities']),type(records1['sources'])",
   "id": "378d49ea72632b19",
   "outputs": [
    {
     "data": {
      "text/plain": [
       "(pandas.core.frame.DataFrame,\n",
       " pandas.core.frame.DataFrame,\n",
       " pandas.core.frame.DataFrame,\n",
       " pandas.core.frame.DataFrame)"
      ]
     },
     "execution_count": 90,
     "metadata": {},
     "output_type": "execute_result"
    }
   ],
   "execution_count": 90
  },
  {
   "metadata": {
    "ExecuteTime": {
     "end_time": "2025-03-31T02:27:04.182677700Z",
     "start_time": "2025-03-30T10:34:30.263977Z"
    }
   },
   "cell_type": "code",
   "source": [
    "print(type(chunks1))\n",
    "print(chunks1)"
   ],
   "id": "559286ebbac541fa",
   "outputs": [
    {
     "name": "stdout",
     "output_type": "stream",
     "text": [
      "<class 'str'>\n",
      "-----Reports-----\n",
      "id|title|content\r\n",
      "0|李清照与宋代文化社区|\"# 李清照与宋代文化社区\n",
      "\n",
      "本报告聚焦于宋代女词人李清照及其作品与生活环境的关系，探讨了她的词作如何反映了宋代的文化氛围和个人情感。李清照的作品与多个实体有关，包括个人经历、创作背景和文化符号。\n",
      "\n",
      "## 李清照的文学成就与宋代文化的关联\n",
      "\n",
      "李清照是宋代著名的女词人，其作品深受当时社会文化的影响，同时也反映了个人的情感和生活体验。她的词作中融入了许多文化元素和个人情感，如《一剪梅》中的玉簟象征，以及对陶渊明等历史人物的提及，显示了她与宋代文化的紧密联系[数据：实体（6，84，331，100）；关系（105，375，117）]。\n",
      "\n",
      "## 李清照作品中的个人情感表达\n",
      "\n",
      "李清照的词作不仅展现了她对宋代文化的深刻理解，还体现了她个人情感的细腻表达。例如，她在《念奴娇 春情》中对萧条庭院和斜风细雨的描写，传达了深深的愁绪和对过去时光的怀念[数据：实体（123，124）；关系（141，142）]。\n",
      "\n",
      "## 李清照与宋代社会生活的反映\n",
      "\n",
      "通过对李清照作品的分析，我们可以看到她的生活及创作受到了宋代文化氛围的深刻影响。她的词作中的物质文化细节，如玉簟、金翠罗衣等，不仅描绘了当时社会的繁荣，也反映了个人生活的物质基础[数据：实体（331，78）；关系（375，98）]。\n",
      "\n",
      "## 李清照词作中的历史与神话元素\n",
      "\n",
      "李清照的词作中融入了丰富的历史与神话元素，如织女、韩令等，这些元素不仅增加了作品的文化深度，也使其成为研究宋代文化和文学的重要资料[数据：实体（721，81）；关系（766，102）]。\n",
      "\n",
      "## 李清照与宋代政治变迁的关系\n",
      "\n",
      "李清照的生活和创作受到了宋代政治变迁的影响。例如，朝廷放散百官后，她移居衢州，这一事件及其对应的作品，如《咏史》中的斥责刘豫为伪齐帝，反映了她对时政的关注和态度[数据：实体（921，923）；关系（993，998，17）]。\n",
      "\n",
      "## 李清照词作中的自然景观描写\n",
      "\n",
      "李清照的词作中经常出现对自然景观的描写，如清露、新桐等，这些描写不仅展现了她对自然美的敏感和欣赏，也与她的情感体验紧密相连，如春寒与内心愁绪的联系[数据：实体（166，167）；关系（186，187，181）]。\"\r\n",
      "30|李清照与宋代文人的文学交融|\"# 李清照与宋代文人的文学交融\n",
      "\n",
      "本报告围绕宋代杰出女词人李清照及与她有显著文学互动的欧阳修、韩文公(韩愈)和陶靖节(陶渊明)等文学家的关系。同时，探讨了她的代表作品《蝶恋花》、《武陵春》等如何通过象征、意境和情感表达，展现宋代文人的生活情感和审美特点。\n",
      "\n",
      "## 李清照作品的情感与艺术表现\n",
      "\n",
      "李清照的作品深受其个人生活经历影响，从清新脱俗的《蝶恋花》到象征着愿望与现实反差的《轻舟》，她借助细腻的笔触抒发深切情感和对美的追求[数据：实体（21,675,666,713）]\n",
      "\n",
      "## 欧阳修、韩文公、陶靖节对李清照的文学影响\n",
      "\n",
      "李清照在她的词作中，如《临江仙》，多次引用和表述欧阳修、韩愈和陶渊明的作品，体现了她受到这些古代文学巨匠影响的深度。这种文学互动对宋代以及后代文学风格产生了显著影响[数据：实体（260,261,262）；关系（285,289,291）]\n",
      "\n",
      "## 文学作品中的意境与象征应用\n",
      "\n",
      "李清照的词作中，常用自然景物如‘轻舟’、‘双溪’、‘舴艋舟’作为表达内心愁绪和理想与现实落差的象征，这些象征和意境的应用反映了她在文学上的创新能力和对情感的精妙掌控[数据：实体（675,667,670）；关系（713,700,702）]\n",
      "\n",
      "## 李清照及同代文人对后世的文学传承\n",
      "\n",
      "通过欧阳修、韩愈、陶渊明与李清照之间跨时代的文学交流，我们可以看到宋代文人是如何在继承古代文学传统的同时对后代文学产生影响的。李清照及其提及的文学家，通过作品在文学史上的影响，展示了其作品历久弥新的价值[数据：关系（285,289,291）]\n",
      "\n",
      "## 李清照的作品作为研究她的历史背景和社会动态的窗口\n",
      "\n",
      "通过李清照在不同历史时期所创作的词作，例如1129年2月所作《临江仙》和《浣溪沙 其三》，她的诗词成为了了解她个人生活，以及宋代早期社会文化氛围的重要文献[数据：实体（259）；关系（283,284）]\"\r\n",
      "\n",
      "\n",
      "-----Entities-----\n",
      "id|entity|description\n",
      "148|明诚|\n",
      "486|鸿胪少卿|赵明诚被任命的职位\n",
      "485|夫赵明诚|月 夫赵明诚除鸿胪少卿\n",
      "51|词人|\n",
      "618|回摇斗|\n",
      "650|打马赋|\n",
      "766|云韶集|\n",
      "197|酸梅酒|\n",
      "511|建中辛巳|宋代年号及时期，表明李清照与赵明诚结婚的时间\n",
      "76|宋代|\n",
      "487|鸿胪直舍|赵明诚在该地位写作的地方\n",
      "262|陶靖节|陶靖节，即陶渊明，是一位享誉古代中国的文学家，以其归隐田园的理想生活和对个人志趣的坚持而闻名。他的作品《归去来辞》是传诵千古的名篇，体现了他对于简朴生活的向往和对官场的淡漠。李清照，北宋著名女词人，在她的词作中提到了陶渊明及其《归去来辞》，表明了她对陶渊明归隐理想的认同与赞赏。陶渊明的文学成就和人格魅力对后世文人包括李清照产生了深远的影响，她通过提及陶渊明的作品，显示出文学传承中承前启后的文化内涵。\n",
      "112|《饮酒》|陶渊明所作诗篇，描述采菊的场景\n",
      "750|新愁|李清照因赵明诚出游而感到的深愁与忧思\n",
      "\n",
      "\n",
      "-----Relationships-----\n",
      "id|source|target|description|links\n",
      "406|明诚|李清照|李清照是中国宋代著名的女词人，她的才华和贡献在中国文学史上占有重要地位。她的丈夫名为明诚，也被称为赵湖州，是一位文学才子。他们之间有着深厚的感情。不幸的是，明诚逝世后，李清照深受打击，身陷悲痛之中。为了表达对已故丈夫的哀思和对他们深切感情的缅怀，李清照特地写下了《祭赵湖州文》，在文中她抒发了对明诚的怀念和悲痛之情。此外，她还创作了悼念丈夫的诗歌，通过文字表达对明诚的深切怀念和她内心的哀伤。李清照以此方式保持着与明诚之间的精神联系，并在中国文学史上留下了珍贵的情感记录和艺术成就。|1\n",
      "166|李清照|明诚|李清照是中国宋代著名的女词人，与丈夫明诚的情感深厚，两人不仅情感生活融洽，而且在学术工作上也有着密切的合作。作为夫妻档，他们共同生活与创作，李清照的多首词作品中都能感受到她对明诚的深情和依赖。然而，在明诚因公外出仕宦期间，李清照通过自己的词作，表现出了深深的离情别绪，其词作中流露出因丈夫的离去而产生的孤独和思念之情。李清照的作品不仅体现了宋代女性的情感世界，还揭示了当时社会背景下知识分子家庭的生活状态。|1\n",
      "384|明诚|易安|李清照（易安）与赵明诚（明诚）的夫妻关系|1\n",
      "933|易安|明诚|李清照创作词作后，赵明诚感到赞叹，并试图创作更佳作品\n",
      "易安李清照作词，明诚赵明诚对此作词赞叹|1\n",
      "1099|益都|明诚|明诚与李清照在益都共同生活|1\n",
      "167|南渡|明诚|明诚可能在南渡前离开，李清照因此在作品中表达离情|1\n",
      "938|明诚|醉花阴|被李清照所作的《醉花阴》感动，遂连续数日创作词作以应对|1\n",
      "467|建康|明诚|建康和明诚在历史上分别是地域和人物的代表。明诚，在被旨知湖州后，独自前往建康。而后，遗憾的是，明诚在建康逝世。这段描述不仅仅反映了明诚个人的命运，同样也揭示了古代中国官员往往因公事被调往不同地区，有时候甚至会在外地结束自己的一生。建康，即今天的南京，历史上曾经是六朝时期的都城，文化底蕴深厚，因此也常常成为文人墨客和官员们活动的舞台。在这里，不难想象，像明诚这样的人物，他们的生活和工作必然和建康的地理环境、文化氛围紧密相关。因此明诚的经历，也为我们提供了一瞥当时建康所承载的文化和社会特征。|1\n",
      "924|醉花阴|明诚|明诚对李清照的《醉花阴》赞赏有加|1\n",
      "350|明诚|江宁|明诚在江宁的守御结束|1\n",
      "\n",
      "\n",
      "-----Sources-----\n",
      "id|text\n",
      "14|“望断”二字写尽盼归不能的愁苦，此时感情已积聚至最高峰，全词达到高潮。\n",
      "\n",
      "念奴娇 春情（1116年3月） 宋 · 李清照\n",
      "萧条庭院，又斜风细雨，重门须闭。\n",
      "宠柳娇花寒食近，种种恼人天气。\n",
      "险韵诗成，扶头酒醒，别是闲滋味。\n",
      "征鸿过尽，万千心事难寄。\n",
      "楼上几日春寒，帘垂四面，玉栏干慵倚。\n",
      "被冷香消新梦觉，不许愁人不起。\n",
      "清露晨流，新桐初引，多少游春意！\n",
      "日高烟敛，更看今日晴未？\n",
      "【评注】\n",
      "①险韵诗：以冷僻难押的字做韵脚的诗。\n",
      "②扶头酒：易醉的酒。\n",
      "③初引：初长。《世说新语·赏誉》：“于时清露晨流，新桐初引。”\n",
      "这两句形容春日清晨，露珠晶莹欲滴，桐树初展嫩芽。\n",
      "【评解】\n",
      "这首词写雨后春景，抒深闺寂寞之情。上片写“心事难寄”，从阴雨寒食，天气恼人，引出以诗酒遣愁。下片说“新梦初觉”，从梦后晓晴引起游春之意。全词以细腻曲折的笔触。\n",
      "通过春景的描写，真切地展示诗人独居深闺的心理情态。语浅情深，清丽婉妙。\n",
      "【集评】\n",
      "黄升《唐宋诸贤绝妙词选》：前辈尝称易安“绿肥红瘦”为佳句。\n",
      "余谓此篇“宠柳娇花”之语，办甚俊奇，前此未有能道之者。\n",
      "杨慎《词品》：“清露晨流，新桐初引”，用《世说》入妙。王世贞《艺苑扈言》：“宠柳娇花”，新丽之甚。\n",
      "李攀龙《草堂诗余隽》：上是心事，难以言传，下是新梦，可以意会。\n",
      "邹祇谟《远志斋词衷》：李易安“被冷香消新梦觉，不许愁人不起。”\n",
      "用浅俗之语，发清新之思，词意并工，闺情绝调。\n",
      "唐圭璋《唐宋词简释》：此首写心绪之落寞，语浅情深。“萧条”两句，言风雨闭门，“宠柳”两句，言天气恼人。四句以景起。“险韵”两句，言诗酒消遣；“征鸿”\n",
      "两句，言心事难寄，四句以情承。换头，写楼高寒重、玉阑懒倚。“被冷”两句，言懒起而不得不起。“不许”一句，颇婉妙。“清露”两句，用《世说》，点明外界春色，抒欲图自遣之意。末两句宕开，语似兴会，意仍伤极。盖春意虽盛，无如人心悲伤，欲游终懒，天不晴自不能游，实则即晴亦未必果游。\n",
      "根据词意，这首词当作于南渡之前。明诚出仕在外，词人独处深闺，每当春秋暇日，一种离情别绪便油然而生。这首词写的就是春日离情\n",
      "49|月　夫赵明诚除鸿胪少卿。\n",
      "1106年2月15日　夫赵明诚在鸿胪直舍跋欧阳修集古录跋尾。\n",
      "1106年3月　京城郊游，有词表现承平气象。作品：《庆清朝》（禁幄低张）\n",
      "1106年7月7日　七夕有词，喻政界风云变幻。作品：《行香子》（草际鸣蛩）\n",
      "1107年3月　公公赵挺之卒于汴京。\n",
      "\n",
      "开封（1126年5月，43岁）\n",
      "1126年，43岁\n",
      "1126年5月　夏，夫妻共赏白居易所书《楞严经》\n",
      "6|以接下来有“仿佛”三句。“仿佛”以下这三句 ，写词人在梦中见到天帝。“梦魂”二字，是全词的关键。词人经过海上航行，一缕梦魂仿佛升入天国，见慈祥的天帝。在幻想的境界中，词人塑造了一个态度温和、关心民瘼的天帝。“殷勤问我归何处”，虽然只是一句异常简洁的问话，却饱含着深厚的感情，寄寓着美好的理想。\n",
      "此词则上下两片之间，一气呵成，联系紧密。上片末二句是写天帝的问话，过片二句是写词人的对答。问答之间，语气衔接，毫不停顿。可称之为“跨片格”。“我报路长嗟日暮”句中的“ 报”字与上片的“问”字，便是跨越两片的桥梁。“路长日暮”，反映了词人晚年孤独无依的痛苦经历，然亦有所本。词人结合自己身世，把屈原在《 离骚》中所表达的不惮长途运征，只求日长不暮，以便寻觅天帝，不辞上不求索的情怀隐括入律，只用“ 路长 ”、“日暮”四字，便概括了“上下求索”的意念与过程，语言简净自然，浑化无迹。其意与“学诗谩有惊人句”相连，是词人在天帝面前倾诉自己空有才华而遭逢不幸，奋力挣扎的苦闷。着一“谩”字，流露出对现实的强烈不满。词人在现实中知音难遇，欲诉无门，唯有通过这种幻想的形式，才能尽情地抒发胸中的愤懑，怀才不遇是中国传统文人的命运。李清照虽为女流，但作为一位生不逢时的杰出的文学家她肯定也有类似的感慨。\n",
      "“九万里风鹏正举 ”，从对话中宕开，然仍不离主线。因为词中的贯串动作是渡海乘船，四周景象是海天相接，由此而连想到《庄子·逍遥游》的“鹏之徙于南冥也 ，水击三千里 ，抟扶摇而上者九万里”。\n",
      "说“鹏正举 ”，是进一步对大风的烘托 ，由实到虚，形象愈益壮伟，境界愈益恢宏。在大鹏正在高举的时刻，词人忽又大喝一声：“风休住，蓬舟吹取三山去！”气势磅礴，一往无前，具大手笔也！“蓬舟”，谓轻如蓬草的小舟，极言所乘之舟的轻快。“三山”，指渤海中蓬莱、方丈、赢洲三座仙山，相传为仙人所居，可望而见，但乘船前去，临近时即被风引开，终于无人能到。词人翻旧典出新意敢借鹏抟九天的风力，吹到三山，胆气之豪，境界之高，词中罕见。上片写天帝询问词人归于何处，此处交代海中仙山为词人的归宿。\n",
      "前后呼应，结构缜密。这首词把真实的生活感受融入梦境，巧妙用典梦幻与生活、历史与现实\n",
      "55|回摇斗：谓春天即将来临。\n",
      "⑷ 高闳（hóng）：高门，这里可作“贵府”解。\n",
      "⑸ 棠棣：一种植物，比喻兄弟情谊。\n",
      "⑹ 兰羞：精美的食物。\n",
      "【评注】\n",
      "[1]这首词，元代《截江网》卷六题为“易安夫人”作，但据宋代各类书史文献，从未有称李清照为“易安夫人”者。明代《诗渊》题作者为“宋延安夫人”。\n",
      "[2]应候：应合时令。\n",
      "[3]六叶阶蓂（míng）：谓蓂荚草长出六个叶，意指生日在月之初六。\n",
      "[4]爱景：指冬天的太阳。\n",
      "[5]漏残银箭：指天将晓。\n",
      "[6]杓（biāo）回摇斗：谓春天即将来临。\n",
      "[7]高闳（hóng）：高门，这里可作“贵府”解。\n",
      "[8]棠棣：一种植物，比喻兄弟情谊。\n",
      "[9]兰羞：精美的食物。\n",
      "[10]玉酎（zhòu）：贵重的酒。\n",
      "\n",
      "\n",
      "好事近（1133年3月） 宋 · 李清照\n",
      "风定落花深，帘外拥红堆雪。\n",
      "长记海棠开后，正是伤春时节。\n",
      "酒阑歌罢玉尊空，青缸暗明灭。\n",
      "魂梦不堪幽怨，更一声啼鴂。\n",
      "\n",
      "菩萨蛮 其一 （1132年） 宋 · 李清照\n",
      "风柔日薄春犹早，夹衫乍著心情好。\n",
      "睡起觉微寒，梅花鬓上残。\n",
      "故乡何处是？忘了除非醉。\n",
      "沉水卧时烧，香消酒未消。\n",
      "【评注】\n",
      "这首词是作者晚年的作品，抒发了深切的思乡之情。\n",
      "“春犹早”是说春天刚到 ，虽然阳光还较微弱，但风已变得柔和，不象冬天那样刚猛，天气已渐渐暖和起来 。在南方早春人们换著夹衫，欣喜万分。三、四两句接写昼寝醒后 。“觉微寒是因为刚刚“睡起”，仍扣早春。鬓发上插戴的梅花已经残落。冬去春风闲适恬静，情绪基调是欢欣的。\n",
      "下片转写思乡，情调突变 。“故乡何处是”不仅言故乡邈远难归，而且还含着“望乡”的动作，也就是说，白天黑夜，作者不知多少次引颈北向，遥望故乡。“忘了除非醉”，平白如话，却极深刻沉痛。借酒浇愁，说明只有在醉乡中才能把故乡忘掉，清醒时则无时无刻不在思念故乡 。“忘”正好表明不能忘。这里正话反说加一层转折，把此意表现得更加强烈：正因为思乡之情把作者折磨得无法忍受，所以只有借醉酒把它暂时忘却，可见它已强烈到何种程度。而作者之所以会有“忘”的念头和举动，不仅是为了暂时摆脱思乡之苦，还同回乡几乎无望有关：如果回归有期，那就存有希望 ，不会想到把它忘掉；惟其回乡无望，�\n",
      "\n"
     ]
    }
   ],
   "execution_count": 84
  },
  {
   "metadata": {},
   "cell_type": "markdown",
   "source": "### 不存在的实体匹配效果展示",
   "id": "ad03fa6c5e197e6"
  },
  {
   "metadata": {
    "ExecuteTime": {
     "end_time": "2025-03-31T02:27:04.183678Z",
     "start_time": "2025-03-30T10:42:43.078826Z"
    }
   },
   "cell_type": "code",
   "source": [
    "# test2\n",
    "text2 = \"中南大学\"\n",
    "context2 = context_builder.build_context(text2)\n",
    "chunks2 = context2.context_chunks\n",
    "records2 = context2.context_records"
   ],
   "id": "f44e5dd631ceedbc",
   "outputs": [],
   "execution_count": 100
  },
  {
   "metadata": {
    "ExecuteTime": {
     "end_time": "2025-03-31T02:27:04.184680200Z",
     "start_time": "2025-03-30T10:42:45.787591Z"
    }
   },
   "cell_type": "code",
   "source": [
    "print(records2['reports'])\n",
    "print(\"*\" * 100)\n",
    "print('relationships:')\n",
    "print(records2['relationships'])\n",
    "print(\"*\" * 100)\n",
    "print('entities:')\n",
    "print(records2['entities'])\n",
    "print(\"*\" * 100)\n",
    "print('sources:')\n",
    "print(records2['sources'])"
   ],
   "id": "895ac21790115c19",
   "outputs": [
    {
     "name": "stdout",
     "output_type": "stream",
     "text": [
      "   id       title                                            content\n",
      "0  11    李清照与宋代词坛  # 李清照与宋代词坛\\n\\n社区围绕李清照，宋代著名女词人展开，其作品及别号易安影响深远。该...\n",
      "1  16  李清照与宋代文化环境  # 李清照与宋代文化环境\\n\\n本社区以李清照及其关联实体构成，体现了宋代文化环境下李清照诗...\n",
      "****************************************************************************************************\n",
      "relationships:\n",
      "     id source target                                        description  \\\n",
      "0   792     秦楼    李清照                                李清照独自在秦楼凝望，寓意着深切的思念   \n",
      "1   781    李清照     秦楼                      李清照词作中提到的秦楼，可能象征着别离或者是心情愁绪的地方   \n",
      "2    60    李清照     庄子                          李清照在作品中引用庄子的《逍遥游》来扩展自己的想象   \n",
      "3   832    婉约派     易安                          易安的词作体现了正宗的婉约派风格，清新浅易而不攲靡   \n",
      "4   723    八咏楼     沈约  八咏楼是根据沈约的《八咏》诗集而命名的地方。沈约不仅建造了八咏楼，还在此赋诗，可见他与这座楼...   \n",
      "5    65     庄子     词人                        词人在作品中引用庄子的《逍遥游》，描述大鹏鸟的宏大形象   \n",
      "6    86     格非    太学录                                      格非在1086年进补太学录   \n",
      "7   793     秦楼    阳关曲                          秦楼作为凝望之地，与《阳关曲》中的离愁别绪形成对比   \n",
      "8   794     秦楼     春秋                                    秦楼的故事来源于春秋时期的传说   \n",
      "9   791     武陵     秦楼                            武陵和秦楼在李清照的诗词中象徵着彼此思念的地点   \n",
      "10  606     黄岩     海道                                     黄岩可能是通往海道的地点之一   \n",
      "11  829     离情   离怀别苦                                     《离情》表达了离怀别苦的主题   \n",
      "12  173     征鸿   万千心事                                 李清照借助征鸿表达内心深处的万千心事   \n",
      "13  726     沈约  齐隆昌元年                             齐隆昌元年，沈约建造了八咏楼并于楼上多次赋诗   \n",
      "14  841     大庚     南枝                       大庚与南枝关联，根据解释在李峤诗中南枝指的是梅树的一部分   \n",
      "\n",
      "   links  in_context  \n",
      "0      2        True  \n",
      "1      2        True  \n",
      "2      2        True  \n",
      "3      1        True  \n",
      "4      1        True  \n",
      "5      1        True  \n",
      "6      1        True  \n",
      "7      1        True  \n",
      "8      1        True  \n",
      "9      1        True  \n",
      "10     1        True  \n",
      "11     1        True  \n",
      "12     1        True  \n",
      "13     1        True  \n",
      "14     1        True  \n",
      "****************************************************************************************************\n",
      "entities:\n",
      "    id entity                                        description  in_context\n",
      "0  573     海道                                              海上的路线        True\n",
      "1   69    太学录                                格非进补的职位，古代中国的教育机构之一        True\n",
      "2  155     征鸿                           在古代中国文学中常作为寄托哀思和远行人思乡的象征        True\n",
      "3  772    婉约派                         文学流派，宋代以来诗词中温柔委婉、情感细腻的一种风格        True\n",
      "4  780     南枝                                                           True\n",
      "5  680     沈约  沈约是南朝齐时期的一位著名文学家。在隆昌元年，他担任东阳郡太守的职位，期间建造了著名的八咏楼...        True\n",
      "6   45     庄子                                 中国古代哲学家，著有《庄子·逍遥游》        True\n",
      "7  770   离怀别苦                              一种文学中常表现的思念亲人、恋人的情感状态        True\n",
      "8  729     秦楼  秦楼作为一处地名，在文学作品中往往承载着丰富的象征意义。它不仅可能象征性地指向一处遥远或与世...        True\n",
      "****************************************************************************************************\n",
      "sources:\n",
      "   id                                               text\n",
      "0  53  。遂解舟下，一日夜行三百里。比至，果大服茈胡、黄芩药，疟且痢，病危在膏肓。余悲泣，仓皇不忍问...\n",
      "1   8  章丘（1084年 - 1089年，1-6岁）\\n1084年　父格非官郓州教授。\\n1085年...\n",
      "2  15  。四句以景起。“险韵”两句，言诗酒消遣；“征鸿”\\n两句，言心事难寄，四句以情承。换头，写楼...\n",
      "3  72  一首正宗的婉约派词作，特别是“泪融残粉花钿重”以及“乍试夹衫金缕缝，山枕攲斜，枕损钗头凤”等...\n",
      "4  73  玉楼春（1104年3月） 宋 · 李清照\\n红酥肯放琼苞碎，探著南枝开遍未。\\n不知蕴藉几多...\n"
     ]
    }
   ],
   "execution_count": 101
  }
 ],
 "metadata": {
  "kernelspec": {
   "display_name": "Python 3",
   "language": "python",
   "name": "python3"
  },
  "language_info": {
   "codemirror_mode": {
    "name": "ipython",
    "version": 2
   },
   "file_extension": ".py",
   "mimetype": "text/x-python",
   "name": "python",
   "nbconvert_exporter": "python",
   "pygments_lexer": "ipython2",
   "version": "2.7.6"
  }
 },
 "nbformat": 4,
 "nbformat_minor": 5
}
